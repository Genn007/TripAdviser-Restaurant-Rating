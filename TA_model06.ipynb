{
 "cells": [
  {
   "cell_type": "markdown",
   "source": [
    "# Restoran Rating Forecast Model"
   ],
   "metadata": {
    "collapsed": false
   }
  },
  {
   "cell_type": "markdown",
   "metadata": {},
   "source": [
    "## Загрузка Pandas и очистка данных"
   ]
  },
  {
   "cell_type": "code",
   "execution_count": 1,
   "metadata": {},
   "outputs": [],
   "source": [
    "import pandas as pd\n",
    "import numpy as np\n",
    "import time\n",
    "from datetime import datetime"
   ]
  },
  {
   "cell_type": "code",
   "execution_count": 2,
   "outputs": [],
   "source": [
    "import re"
   ],
   "metadata": {
    "collapsed": false,
    "pycharm": {
     "name": "#%%\n"
    }
   }
  },
  {
   "cell_type": "code",
   "source": [
    "from textblob import TextBlob"
   ],
   "metadata": {
    "collapsed": false,
    "pycharm": {
     "name": "#%%\n"
    }
   },
   "execution_count": 3,
   "outputs": []
  },
  {
   "cell_type": "code",
   "execution_count": 4,
   "outputs": [],
   "source": [
    "from sklearn.model_selection import train_test_split\n",
    "from sklearn.ensemble import RandomForestRegressor # инструмент для создания и обучения модели\n",
    "from sklearn import metrics # инструменты для оценки точности модели"
   ],
   "metadata": {
    "collapsed": false,
    "pycharm": {
     "name": "#%%\n"
    }
   }
  },
  {
   "cell_type": "markdown",
   "source": [
    "### Раздел для декларации вспомогательных функций"
   ],
   "metadata": {
    "collapsed": false
   }
  },
  {
   "cell_type": "code",
   "execution_count": 5,
   "outputs": [],
   "source": [
    "def clean_spaces(df):\n",
    "    bad_names = []\n",
    "    substs = {}\n",
    "    for col in list(df.columns):\n",
    "        if ' ' in col:\n",
    "            bad_names.append(col)\n",
    "    for col in bad_names:\n",
    "        substs[col] = '_'.join(col.split())\n",
    "    # substs\n",
    "    df.rename(columns=substs, inplace=True)\n",
    "    return df"
   ],
   "metadata": {
    "collapsed": false,
    "pycharm": {
     "name": "#%%\n"
    }
   }
  },
  {
   "cell_type": "code",
   "execution_count": 6,
   "outputs": [],
   "source": [
    "#Функция обучения как в постановке задачи\n",
    "def RFR_test(df):\n",
    "    was = time.perf_counter()\n",
    "    X = df.drop(['Restaurant_id', 'Rating'], axis=1)\n",
    "    y = df['Rating']\n",
    "    X_train, X_test, y_train, y_test = train_test_split(X, y, test_size=0.25, random_state=17)\n",
    "    regr = RandomForestRegressor(n_estimators=100, verbose=1, n_jobs=-1, random_state=17)\n",
    "    regr.fit(X_train, y_train)\n",
    "    y_pred = regr.predict(X_test)\n",
    "    y_pred2 = (y_pred * 2).round() / 2\n",
    "    print('Длительность:', time.perf_counter() - was, 'sec')\n",
    "    print('MAE:', metrics.mean_absolute_error(y_test, y_pred))\n",
    "    print('MAE2:', metrics.mean_absolute_error(y_test, y_pred2))"
   ],
   "metadata": {
    "collapsed": false,
    "pycharm": {
     "name": "#%%\n"
    }
   }
  },
  {
   "cell_type": "markdown",
   "source": [
    "### Обработка исходных данных"
   ],
   "metadata": {
    "collapsed": false
   }
  },
  {
   "cell_type": "code",
   "execution_count": 7,
   "metadata": {},
   "outputs": [],
   "source": [
    "\n",
    "df = pd.read_csv('main_task_new.csv')\n",
    "cities = pd.read_csv('Cities.csv')    # Это мой файл дополнительных данных"
   ]
  },
  {
   "cell_type": "code",
   "execution_count": 8,
   "outputs": [],
   "source": [
    "joined = df.merge(cities, on='City', how='left')   #исходный набор обогащен дополнительными полями"
   ],
   "metadata": {
    "collapsed": false,
    "pycharm": {
     "name": "#%%\n"
    }
   }
  },
  {
   "cell_type": "code",
   "execution_count": 10,
   "outputs": [
    {
     "data": {
      "text/plain": "  Restaurant_id       City                                      Cuisine Style  \\\n0       id_5569      Paris            ['European', 'French', 'International']   \n1       id_1535  Stockholm                                                NaN   \n2        id_352     London  ['Japanese', 'Sushi', 'Asian', 'Grill', 'Veget...   \n3       id_3456     Berlin                                                NaN   \n4        id_615     Munich  ['German', 'Central European', 'Vegetarian Fri...   \n\n   Ranking  Rating Price Range  Number of Reviews  \\\n0   5570.0     3.5    $$ - $$$              194.0   \n1   1537.0     4.0         NaN               10.0   \n2    353.0     4.5        $$$$              688.0   \n3   3458.0     5.0         NaN                3.0   \n4    621.0     4.0    $$ - $$$               84.0   \n\n                                             Reviews Country_Code  Population  \n0  [['Good food at your doorstep', 'A good hotel ...          FRA     2140526  \n1  [['Unique cuisine', 'Delicious Nepalese food']...          SWE      975551  \n2  [['Catch up with friends', 'Not exceptional'],...          GBR     9126366  \n3                                           [[], []]          DEU     3748148  \n4  [['Best place to try a Bavarian food', 'Nice b...          DEU     1471508  ",
      "text/html": "<div>\n<style scoped>\n    .dataframe tbody tr th:only-of-type {\n        vertical-align: middle;\n    }\n\n    .dataframe tbody tr th {\n        vertical-align: top;\n    }\n\n    .dataframe thead th {\n        text-align: right;\n    }\n</style>\n<table border=\"1\" class=\"dataframe\">\n  <thead>\n    <tr style=\"text-align: right;\">\n      <th></th>\n      <th>Restaurant_id</th>\n      <th>City</th>\n      <th>Cuisine Style</th>\n      <th>Ranking</th>\n      <th>Rating</th>\n      <th>Price Range</th>\n      <th>Number of Reviews</th>\n      <th>Reviews</th>\n      <th>Country_Code</th>\n      <th>Population</th>\n    </tr>\n  </thead>\n  <tbody>\n    <tr>\n      <th>0</th>\n      <td>id_5569</td>\n      <td>Paris</td>\n      <td>['European', 'French', 'International']</td>\n      <td>5570.0</td>\n      <td>3.5</td>\n      <td>$$ - $$$</td>\n      <td>194.0</td>\n      <td>[['Good food at your doorstep', 'A good hotel ...</td>\n      <td>FRA</td>\n      <td>2140526</td>\n    </tr>\n    <tr>\n      <th>1</th>\n      <td>id_1535</td>\n      <td>Stockholm</td>\n      <td>NaN</td>\n      <td>1537.0</td>\n      <td>4.0</td>\n      <td>NaN</td>\n      <td>10.0</td>\n      <td>[['Unique cuisine', 'Delicious Nepalese food']...</td>\n      <td>SWE</td>\n      <td>975551</td>\n    </tr>\n    <tr>\n      <th>2</th>\n      <td>id_352</td>\n      <td>London</td>\n      <td>['Japanese', 'Sushi', 'Asian', 'Grill', 'Veget...</td>\n      <td>353.0</td>\n      <td>4.5</td>\n      <td>$$$$</td>\n      <td>688.0</td>\n      <td>[['Catch up with friends', 'Not exceptional'],...</td>\n      <td>GBR</td>\n      <td>9126366</td>\n    </tr>\n    <tr>\n      <th>3</th>\n      <td>id_3456</td>\n      <td>Berlin</td>\n      <td>NaN</td>\n      <td>3458.0</td>\n      <td>5.0</td>\n      <td>NaN</td>\n      <td>3.0</td>\n      <td>[[], []]</td>\n      <td>DEU</td>\n      <td>3748148</td>\n    </tr>\n    <tr>\n      <th>4</th>\n      <td>id_615</td>\n      <td>Munich</td>\n      <td>['German', 'Central European', 'Vegetarian Fri...</td>\n      <td>621.0</td>\n      <td>4.0</td>\n      <td>$$ - $$$</td>\n      <td>84.0</td>\n      <td>[['Best place to try a Bavarian food', 'Nice b...</td>\n      <td>DEU</td>\n      <td>1471508</td>\n    </tr>\n  </tbody>\n</table>\n</div>"
     },
     "execution_count": 10,
     "metadata": {},
     "output_type": "execute_result"
    }
   ],
   "source": [
    "\n",
    "df = joined.drop(['URL_TA','ID_TA'],axis=1)\n",
    "df.head()"
   ],
   "metadata": {
    "collapsed": false,
    "pycharm": {
     "name": "#%%\n"
    }
   }
  },
  {
   "cell_type": "markdown",
   "source": [
    "Первоначальная версия датасета состоит из десяти столбцов, содержащих следующую информацию:\n",
    "\n",
    "Restaurant_id — идентификационный номер ресторана / сети ресторанов;\n",
    "City — город, в котором находится ресторан;\n",
    "Cuisine Style — кухня или кухни, к которым можно отнести блюда, предлагаемые в ресторане;\n",
    "Ranking — место, которое занимает данный ресторан среди всех ресторанов своего города;\n",
    "Rating — рейтинг ресторана по данным TripAdvisor (именно это значение должна будет предсказывать модель);\n",
    "Price Range — диапазон цен в ресторане;\n",
    "Number of Reviews — количество отзывов о ресторане;\n",
    "Reviews — данные о двух отзывах, которые отображаются на сайте ресторана;\n",
    "URL_TA — URL страницы ресторана на TripAdvisor;\n",
    "ID_TA — идентификатор ресторана в базе данных TripAdvisor.\n",
    "Есть какая-то ошибка в данных в выгрузке из Мадрида. Там примерно 20 дубликатов в полях URL_TA и ID_TA. Заполнить пропуски мне это не поможет.  Если бы умел парсить сайты - можно было бы подтянуть информацию из tripadvisor.com Но пока не умею! ((\n",
    "\n",
    "Я добавил два столбца - Country_Code и Population. И сразу сбросил 'URL_TA','ID_TA'.  Знал бы сейчас парсинг сайтов - подтянул бы данные с сайта TA."
   ],
   "metadata": {
    "collapsed": false
   }
  },
  {
   "cell_type": "markdown",
   "source": [
    "Несколько колонок имеют пробелы внутри названия и подлежат переименованию"
   ],
   "metadata": {
    "collapsed": false
   }
  },
  {
   "cell_type": "code",
   "execution_count": 11,
   "outputs": [],
   "source": [
    "df = clean_spaces(df)"
   ],
   "metadata": {
    "collapsed": false,
    "pycharm": {
     "name": "#%%\n"
    }
   }
  },
  {
   "cell_type": "code",
   "execution_count": 12,
   "outputs": [
    {
     "name": "stdout",
     "output_type": "stream",
     "text": [
      "<class 'pandas.core.frame.DataFrame'>\n",
      "Int64Index: 40000 entries, 0 to 39999\n",
      "Data columns (total 10 columns):\n",
      " #   Column             Non-Null Count  Dtype  \n",
      "---  ------             --------------  -----  \n",
      " 0   Restaurant_id      40000 non-null  object \n",
      " 1   City               40000 non-null  object \n",
      " 2   Cuisine_Style      30717 non-null  object \n",
      " 3   Ranking            40000 non-null  float64\n",
      " 4   Rating             40000 non-null  float64\n",
      " 5   Price_Range        26114 non-null  object \n",
      " 6   Number_of_Reviews  37457 non-null  float64\n",
      " 7   Reviews            40000 non-null  object \n",
      " 8   Country_Code       40000 non-null  object \n",
      " 9   Population         40000 non-null  int64  \n",
      "dtypes: float64(3), int64(1), object(6)\n",
      "memory usage: 3.4+ MB\n"
     ]
    }
   ],
   "source": [
    "df.info()"
   ],
   "metadata": {
    "collapsed": false,
    "pycharm": {
     "name": "#%%\n"
    }
   }
  },
  {
   "cell_type": "markdown",
   "source": [
    "Несколько столбцов имеют явные пропуски значений -  . Убираю их самыми частыми или средними в наборе."
   ],
   "metadata": {
    "collapsed": false
   }
  },
  {
   "cell_type": "code",
   "execution_count": 13,
   "outputs": [
    {
     "name": "stdout",
     "output_type": "stream",
     "text": [
      "<class 'pandas.core.frame.DataFrame'>\n",
      "Int64Index: 40000 entries, 0 to 39999\n",
      "Data columns (total 10 columns):\n",
      " #   Column             Non-Null Count  Dtype  \n",
      "---  ------             --------------  -----  \n",
      " 0   Restaurant_id      40000 non-null  object \n",
      " 1   City               40000 non-null  object \n",
      " 2   Cuisine_Style      40000 non-null  object \n",
      " 3   Ranking            40000 non-null  float64\n",
      " 4   Rating             40000 non-null  float64\n",
      " 5   Price_Range        40000 non-null  object \n",
      " 6   Number_of_Reviews  40000 non-null  float64\n",
      " 7   Reviews            40000 non-null  object \n",
      " 8   Country_Code       40000 non-null  object \n",
      " 9   Population         40000 non-null  int64  \n",
      "dtypes: float64(3), int64(1), object(6)\n",
      "memory usage: 3.4+ MB\n"
     ]
    }
   ],
   "source": [
    "# Заполняю пропуски в Cuisine_Style, Price_Range,Number_of_Reviews не обращая внимания на город\n",
    "df['Cuisine_Style'].fillna(df['Cuisine_Style'].value_counts().idxmax(), inplace=True)\n",
    "df['Price_Range'].fillna(df['Price_Range'].value_counts().idxmax(), inplace=True)\n",
    "df['Number_of_Reviews'].fillna(df['Number_of_Reviews'].median(),inplace=True)\n",
    "df.info()"
   ],
   "metadata": {
    "collapsed": false,
    "pycharm": {
     "name": "#%%\n"
    }
   }
  },
  {
   "cell_type": "markdown",
   "source": [
    "Превращаю номинативный столбец с названиями городов в набор столбцов датафрейма с названиями городов. Одновременно в зависимости от города заполняются пропуски в столбцах 'Cuisine_Style', 'Price_Range' модой для города и 'Number_of_Reviews' медианой для города.\n"
   ],
   "metadata": {
    "collapsed": false
   }
  },
  {
   "cell_type": "code",
   "execution_count": 14,
   "outputs": [
    {
     "data": {
      "text/plain": "  Restaurant_id                                      Cuisine_Style  Ranking  \\\n0       id_5569            ['European', 'French', 'International']   5570.0   \n1       id_1535                                        ['Italian']   1537.0   \n2        id_352  ['Japanese', 'Sushi', 'Asian', 'Grill', 'Veget...    353.0   \n\n   Rating Price_Range  Number_of_Reviews  \\\n0     3.5    $$ - $$$              194.0   \n1     4.0    $$ - $$$               10.0   \n2     4.5        $$$$              688.0   \n\n                                             Reviews Country_Code  Population  \\\n0  [['Good food at your doorstep', 'A good hotel ...          FRA     2140526   \n1  [['Unique cuisine', 'Delicious Nepalese food']...          SWE      975551   \n2  [['Catch up with friends', 'Not exceptional'],...          GBR     9126366   \n\n   Amsterdam  ...  Munich  Oporto  Oslo  Paris  Prague  Rome  Stockholm  \\\n0          0  ...       0       0     0      1       0     0          0   \n1          0  ...       0       0     0      0       0     0          1   \n2          0  ...       0       0     0      0       0     0          0   \n\n   Vienna  Warsaw  Zurich  \n0       0       0       0  \n1       0       0       0  \n2       0       0       0  \n\n[3 rows x 40 columns]",
      "text/html": "<div>\n<style scoped>\n    .dataframe tbody tr th:only-of-type {\n        vertical-align: middle;\n    }\n\n    .dataframe tbody tr th {\n        vertical-align: top;\n    }\n\n    .dataframe thead th {\n        text-align: right;\n    }\n</style>\n<table border=\"1\" class=\"dataframe\">\n  <thead>\n    <tr style=\"text-align: right;\">\n      <th></th>\n      <th>Restaurant_id</th>\n      <th>Cuisine_Style</th>\n      <th>Ranking</th>\n      <th>Rating</th>\n      <th>Price_Range</th>\n      <th>Number_of_Reviews</th>\n      <th>Reviews</th>\n      <th>Country_Code</th>\n      <th>Population</th>\n      <th>Amsterdam</th>\n      <th>...</th>\n      <th>Munich</th>\n      <th>Oporto</th>\n      <th>Oslo</th>\n      <th>Paris</th>\n      <th>Prague</th>\n      <th>Rome</th>\n      <th>Stockholm</th>\n      <th>Vienna</th>\n      <th>Warsaw</th>\n      <th>Zurich</th>\n    </tr>\n  </thead>\n  <tbody>\n    <tr>\n      <th>0</th>\n      <td>id_5569</td>\n      <td>['European', 'French', 'International']</td>\n      <td>5570.0</td>\n      <td>3.5</td>\n      <td>$$ - $$$</td>\n      <td>194.0</td>\n      <td>[['Good food at your doorstep', 'A good hotel ...</td>\n      <td>FRA</td>\n      <td>2140526</td>\n      <td>0</td>\n      <td>...</td>\n      <td>0</td>\n      <td>0</td>\n      <td>0</td>\n      <td>1</td>\n      <td>0</td>\n      <td>0</td>\n      <td>0</td>\n      <td>0</td>\n      <td>0</td>\n      <td>0</td>\n    </tr>\n    <tr>\n      <th>1</th>\n      <td>id_1535</td>\n      <td>['Italian']</td>\n      <td>1537.0</td>\n      <td>4.0</td>\n      <td>$$ - $$$</td>\n      <td>10.0</td>\n      <td>[['Unique cuisine', 'Delicious Nepalese food']...</td>\n      <td>SWE</td>\n      <td>975551</td>\n      <td>0</td>\n      <td>...</td>\n      <td>0</td>\n      <td>0</td>\n      <td>0</td>\n      <td>0</td>\n      <td>0</td>\n      <td>0</td>\n      <td>1</td>\n      <td>0</td>\n      <td>0</td>\n      <td>0</td>\n    </tr>\n    <tr>\n      <th>2</th>\n      <td>id_352</td>\n      <td>['Japanese', 'Sushi', 'Asian', 'Grill', 'Veget...</td>\n      <td>353.0</td>\n      <td>4.5</td>\n      <td>$$$$</td>\n      <td>688.0</td>\n      <td>[['Catch up with friends', 'Not exceptional'],...</td>\n      <td>GBR</td>\n      <td>9126366</td>\n      <td>0</td>\n      <td>...</td>\n      <td>0</td>\n      <td>0</td>\n      <td>0</td>\n      <td>0</td>\n      <td>0</td>\n      <td>0</td>\n      <td>0</td>\n      <td>0</td>\n      <td>0</td>\n      <td>0</td>\n    </tr>\n  </tbody>\n</table>\n<p>3 rows × 40 columns</p>\n</div>"
     },
     "execution_count": 14,
     "metadata": {},
     "output_type": "execute_result"
    }
   ],
   "source": [
    "# Разворачивание номинативного столбца в набор индексных\n",
    "city_columns = pd.get_dummies(df['City'])\n",
    "df = df.join(city_columns).drop('City',axis=1)\n",
    "df.head(3)"
   ],
   "metadata": {
    "collapsed": false,
    "pycharm": {
     "name": "#%%\n"
    }
   }
  },
  {
   "cell_type": "code",
   "execution_count": 15,
   "outputs": [
    {
     "data": {
      "text/plain": "  Restaurant_id                                      Cuisine_Style  Ranking  \\\n0       id_5569            ['European', 'French', 'International']   5570.0   \n1       id_1535                                        ['Italian']   1537.0   \n2        id_352  ['Japanese', 'Sushi', 'Asian', 'Grill', 'Veget...    353.0   \n\n   Rating Price_Range  Number_of_Reviews  \\\n0     3.5    $$ - $$$              194.0   \n1     4.0    $$ - $$$               10.0   \n2     4.5        $$$$              688.0   \n\n                                             Reviews  Population  Amsterdam  \\\n0  [['Good food at your doorstep', 'A good hotel ...     2140526          0   \n1  [['Unique cuisine', 'Delicious Nepalese food']...      975551          0   \n2  [['Catch up with friends', 'Not exceptional'],...     9126366          0   \n\n   Athens  ...  IRL  ITA  LUX  NLD  NOR  POL  PRT  SVK  SVN  SWE  \n0       0  ...    0    0    0    0    0    0    0    0    0    0  \n1       0  ...    0    0    0    0    0    0    0    0    0    1  \n2       0  ...    0    0    0    0    0    0    0    0    0    0  \n\n[3 rows x 61 columns]",
      "text/html": "<div>\n<style scoped>\n    .dataframe tbody tr th:only-of-type {\n        vertical-align: middle;\n    }\n\n    .dataframe tbody tr th {\n        vertical-align: top;\n    }\n\n    .dataframe thead th {\n        text-align: right;\n    }\n</style>\n<table border=\"1\" class=\"dataframe\">\n  <thead>\n    <tr style=\"text-align: right;\">\n      <th></th>\n      <th>Restaurant_id</th>\n      <th>Cuisine_Style</th>\n      <th>Ranking</th>\n      <th>Rating</th>\n      <th>Price_Range</th>\n      <th>Number_of_Reviews</th>\n      <th>Reviews</th>\n      <th>Population</th>\n      <th>Amsterdam</th>\n      <th>Athens</th>\n      <th>...</th>\n      <th>IRL</th>\n      <th>ITA</th>\n      <th>LUX</th>\n      <th>NLD</th>\n      <th>NOR</th>\n      <th>POL</th>\n      <th>PRT</th>\n      <th>SVK</th>\n      <th>SVN</th>\n      <th>SWE</th>\n    </tr>\n  </thead>\n  <tbody>\n    <tr>\n      <th>0</th>\n      <td>id_5569</td>\n      <td>['European', 'French', 'International']</td>\n      <td>5570.0</td>\n      <td>3.5</td>\n      <td>$$ - $$$</td>\n      <td>194.0</td>\n      <td>[['Good food at your doorstep', 'A good hotel ...</td>\n      <td>2140526</td>\n      <td>0</td>\n      <td>0</td>\n      <td>...</td>\n      <td>0</td>\n      <td>0</td>\n      <td>0</td>\n      <td>0</td>\n      <td>0</td>\n      <td>0</td>\n      <td>0</td>\n      <td>0</td>\n      <td>0</td>\n      <td>0</td>\n    </tr>\n    <tr>\n      <th>1</th>\n      <td>id_1535</td>\n      <td>['Italian']</td>\n      <td>1537.0</td>\n      <td>4.0</td>\n      <td>$$ - $$$</td>\n      <td>10.0</td>\n      <td>[['Unique cuisine', 'Delicious Nepalese food']...</td>\n      <td>975551</td>\n      <td>0</td>\n      <td>0</td>\n      <td>...</td>\n      <td>0</td>\n      <td>0</td>\n      <td>0</td>\n      <td>0</td>\n      <td>0</td>\n      <td>0</td>\n      <td>0</td>\n      <td>0</td>\n      <td>0</td>\n      <td>1</td>\n    </tr>\n    <tr>\n      <th>2</th>\n      <td>id_352</td>\n      <td>['Japanese', 'Sushi', 'Asian', 'Grill', 'Veget...</td>\n      <td>353.0</td>\n      <td>4.5</td>\n      <td>$$$$</td>\n      <td>688.0</td>\n      <td>[['Catch up with friends', 'Not exceptional'],...</td>\n      <td>9126366</td>\n      <td>0</td>\n      <td>0</td>\n      <td>...</td>\n      <td>0</td>\n      <td>0</td>\n      <td>0</td>\n      <td>0</td>\n      <td>0</td>\n      <td>0</td>\n      <td>0</td>\n      <td>0</td>\n      <td>0</td>\n      <td>0</td>\n    </tr>\n  </tbody>\n</table>\n<p>3 rows × 61 columns</p>\n</div>"
     },
     "execution_count": 15,
     "metadata": {},
     "output_type": "execute_result"
    }
   ],
   "source": [
    "country_columns = pd.get_dummies(df['Country_Code'])\n",
    "df = df.join(country_columns).drop('Country_Code',axis=1)\n",
    "df.head(3)"
   ],
   "metadata": {
    "collapsed": false,
    "pycharm": {
     "name": "#%%\n"
    }
   }
  },
  {
   "cell_type": "code",
   "execution_count": 16,
   "outputs": [
    {
     "data": {
      "text/plain": "  Restaurant_id                                      Cuisine_Style  Ranking  \\\n0       id_5569            ['European', 'French', 'International']   5570.0   \n1       id_1535                                        ['Italian']   1537.0   \n2        id_352  ['Japanese', 'Sushi', 'Asian', 'Grill', 'Veget...    353.0   \n\n   Rating Price_Range  Number_of_Reviews  \\\n0     3.5    $$ - $$$              194.0   \n1     4.0    $$ - $$$               10.0   \n2     4.5        $$$$              688.0   \n\n                                             Reviews  Amsterdam  Athens  \\\n0  [['Good food at your doorstep', 'A good hotel ...          0       0   \n1  [['Unique cuisine', 'Delicious Nepalese food']...          0       0   \n2  [['Catch up with friends', 'Not exceptional'],...          0       0   \n\n   Barcelona  ...  ITA  LUX  NLD  NOR  POL  PRT  SVK  SVN  SWE  Log_Population  \n0          0  ...    0    0    0    0    0    0    0    0    0        6.330521  \n1          0  ...    0    0    0    0    0    0    0    0    1        5.989250  \n2          0  ...    0    0    0    0    0    0    0    0    0        6.960298  \n\n[3 rows x 61 columns]",
      "text/html": "<div>\n<style scoped>\n    .dataframe tbody tr th:only-of-type {\n        vertical-align: middle;\n    }\n\n    .dataframe tbody tr th {\n        vertical-align: top;\n    }\n\n    .dataframe thead th {\n        text-align: right;\n    }\n</style>\n<table border=\"1\" class=\"dataframe\">\n  <thead>\n    <tr style=\"text-align: right;\">\n      <th></th>\n      <th>Restaurant_id</th>\n      <th>Cuisine_Style</th>\n      <th>Ranking</th>\n      <th>Rating</th>\n      <th>Price_Range</th>\n      <th>Number_of_Reviews</th>\n      <th>Reviews</th>\n      <th>Amsterdam</th>\n      <th>Athens</th>\n      <th>Barcelona</th>\n      <th>...</th>\n      <th>ITA</th>\n      <th>LUX</th>\n      <th>NLD</th>\n      <th>NOR</th>\n      <th>POL</th>\n      <th>PRT</th>\n      <th>SVK</th>\n      <th>SVN</th>\n      <th>SWE</th>\n      <th>Log_Population</th>\n    </tr>\n  </thead>\n  <tbody>\n    <tr>\n      <th>0</th>\n      <td>id_5569</td>\n      <td>['European', 'French', 'International']</td>\n      <td>5570.0</td>\n      <td>3.5</td>\n      <td>$$ - $$$</td>\n      <td>194.0</td>\n      <td>[['Good food at your doorstep', 'A good hotel ...</td>\n      <td>0</td>\n      <td>0</td>\n      <td>0</td>\n      <td>...</td>\n      <td>0</td>\n      <td>0</td>\n      <td>0</td>\n      <td>0</td>\n      <td>0</td>\n      <td>0</td>\n      <td>0</td>\n      <td>0</td>\n      <td>0</td>\n      <td>6.330521</td>\n    </tr>\n    <tr>\n      <th>1</th>\n      <td>id_1535</td>\n      <td>['Italian']</td>\n      <td>1537.0</td>\n      <td>4.0</td>\n      <td>$$ - $$$</td>\n      <td>10.0</td>\n      <td>[['Unique cuisine', 'Delicious Nepalese food']...</td>\n      <td>0</td>\n      <td>0</td>\n      <td>0</td>\n      <td>...</td>\n      <td>0</td>\n      <td>0</td>\n      <td>0</td>\n      <td>0</td>\n      <td>0</td>\n      <td>0</td>\n      <td>0</td>\n      <td>0</td>\n      <td>1</td>\n      <td>5.989250</td>\n    </tr>\n    <tr>\n      <th>2</th>\n      <td>id_352</td>\n      <td>['Japanese', 'Sushi', 'Asian', 'Grill', 'Veget...</td>\n      <td>353.0</td>\n      <td>4.5</td>\n      <td>$$$$</td>\n      <td>688.0</td>\n      <td>[['Catch up with friends', 'Not exceptional'],...</td>\n      <td>0</td>\n      <td>0</td>\n      <td>0</td>\n      <td>...</td>\n      <td>0</td>\n      <td>0</td>\n      <td>0</td>\n      <td>0</td>\n      <td>0</td>\n      <td>0</td>\n      <td>0</td>\n      <td>0</td>\n      <td>0</td>\n      <td>6.960298</td>\n    </tr>\n  </tbody>\n</table>\n<p>3 rows × 61 columns</p>\n</div>"
     },
     "execution_count": 16,
     "metadata": {},
     "output_type": "execute_result"
    }
   ],
   "source": [
    "df['Log_Population']=np.log10(df.Population)\n",
    "df = df.drop(['Population'],axis=1)\n",
    "df.head(3)"
   ],
   "metadata": {
    "collapsed": false,
    "pycharm": {
     "name": "#%%\n"
    }
   }
  },
  {
   "cell_type": "code",
   "execution_count": 17,
   "outputs": [
    {
     "name": "stdout",
     "output_type": "stream",
     "text": [
      "Разбор занял 2.652313497999998 sec\n"
     ]
    }
   ],
   "source": [
    "# Превращаю поле Cuisine_Style в набор индексов и одну количественную переменную\n",
    "# Вспомогательная функция для разбора текстового списка\n",
    "def str2list(s):\n",
    "    return [ l.strip().strip(\"'\") for l in s.strip('][').split(',') ]\n",
    "# ожидается громозкая операция. Сколько займет ее исполнение?\n",
    "was = time.perf_counter()\n",
    "# Вспомогательный столбец со списком кухонь\n",
    "df['CStyles'] = df['Cuisine_Style'].apply(str2list)\n",
    "# СStyles - вспомогательный датафрейм для использования explode\n",
    "# В одной ячейке может содержаться несколько названий кухонь,  поэтому сначала делаю их список через explode\n",
    "# а потом добавляю столбцы с названиями и превращаю их в индексы\n",
    "CStyles = df['Cuisine_Style'].unique()\n",
    "CStyles = pd.Series(CStyles)\n",
    "CStyles = CStyles.apply(str2list)\n",
    "CStyles = CStyles.explode()\n",
    "# CNames - список кухонь\n",
    "CNames = CStyles.unique()\n",
    "# CNames - список названий кухонь, превращаю в набор индексных переменных столбцов\n",
    "for st in CNames:\n",
    "    df[st] = df['CStyles'].apply(lambda x: 1 if st in x else 0)\n",
    "df['Num_Cuisines'] = df['CStyles'].apply(len) # это уже дамми переменная с количеством разных кухонь\n",
    "print('Разбор занял',time.perf_counter()-was,'sec')"
   ],
   "metadata": {
    "collapsed": false,
    "pycharm": {
     "name": "#%%\n"
    }
   }
  },
  {
   "cell_type": "code",
   "execution_count": 19,
   "outputs": [
    {
     "ename": "KeyError",
     "evalue": "\"['CStyles' 'Cuisine_Style'] not found in axis\"",
     "output_type": "error",
     "traceback": [
      "\u001B[0;31m---------------------------------------------------------------------------\u001B[0m",
      "\u001B[0;31mKeyError\u001B[0m                                  Traceback (most recent call last)",
      "\u001B[0;32m<ipython-input-19-c3c79aeedf45>\u001B[0m in \u001B[0;36m<module>\u001B[0;34m\u001B[0m\n\u001B[0;32m----> 1\u001B[0;31m \u001B[0mdf\u001B[0m \u001B[0;34m=\u001B[0m \u001B[0mdf\u001B[0m\u001B[0;34m.\u001B[0m\u001B[0mdrop\u001B[0m\u001B[0;34m(\u001B[0m\u001B[0;34m[\u001B[0m\u001B[0;34m'CStyles'\u001B[0m\u001B[0;34m,\u001B[0m \u001B[0;34m'Cuisine_Style'\u001B[0m\u001B[0;34m]\u001B[0m\u001B[0;34m,\u001B[0m \u001B[0maxis\u001B[0m\u001B[0;34m=\u001B[0m\u001B[0;36m1\u001B[0m\u001B[0;34m)\u001B[0m\u001B[0;34m\u001B[0m\u001B[0;34m\u001B[0m\u001B[0m\n\u001B[0m\u001B[1;32m      2\u001B[0m \u001B[0mdf\u001B[0m \u001B[0;34m=\u001B[0m \u001B[0mclean_spaces\u001B[0m\u001B[0;34m(\u001B[0m\u001B[0mdf\u001B[0m\u001B[0;34m)\u001B[0m \u001B[0;31m# в названиях кухонь встречаются пробелы\u001B[0m\u001B[0;34m\u001B[0m\u001B[0;34m\u001B[0m\u001B[0m\n\u001B[1;32m      3\u001B[0m \u001B[0mdf\u001B[0m\u001B[0;34m.\u001B[0m\u001B[0mhead\u001B[0m\u001B[0;34m(\u001B[0m\u001B[0;36m3\u001B[0m\u001B[0;34m)\u001B[0m\u001B[0;34m\u001B[0m\u001B[0;34m\u001B[0m\u001B[0m\n",
      "\u001B[0;32m/opt/anaconda3/lib/python3.8/site-packages/pandas/core/frame.py\u001B[0m in \u001B[0;36mdrop\u001B[0;34m(self, labels, axis, index, columns, level, inplace, errors)\u001B[0m\n\u001B[1;32m   4306\u001B[0m                 \u001B[0mweight\u001B[0m  \u001B[0;36m1.0\u001B[0m     \u001B[0;36m0.8\u001B[0m\u001B[0;34m\u001B[0m\u001B[0;34m\u001B[0m\u001B[0m\n\u001B[1;32m   4307\u001B[0m         \"\"\"\n\u001B[0;32m-> 4308\u001B[0;31m         return super().drop(\n\u001B[0m\u001B[1;32m   4309\u001B[0m             \u001B[0mlabels\u001B[0m\u001B[0;34m=\u001B[0m\u001B[0mlabels\u001B[0m\u001B[0;34m,\u001B[0m\u001B[0;34m\u001B[0m\u001B[0;34m\u001B[0m\u001B[0m\n\u001B[1;32m   4310\u001B[0m             \u001B[0maxis\u001B[0m\u001B[0;34m=\u001B[0m\u001B[0maxis\u001B[0m\u001B[0;34m,\u001B[0m\u001B[0;34m\u001B[0m\u001B[0;34m\u001B[0m\u001B[0m\n",
      "\u001B[0;32m/opt/anaconda3/lib/python3.8/site-packages/pandas/core/generic.py\u001B[0m in \u001B[0;36mdrop\u001B[0;34m(self, labels, axis, index, columns, level, inplace, errors)\u001B[0m\n\u001B[1;32m   4151\u001B[0m         \u001B[0;32mfor\u001B[0m \u001B[0maxis\u001B[0m\u001B[0;34m,\u001B[0m \u001B[0mlabels\u001B[0m \u001B[0;32min\u001B[0m \u001B[0maxes\u001B[0m\u001B[0;34m.\u001B[0m\u001B[0mitems\u001B[0m\u001B[0;34m(\u001B[0m\u001B[0;34m)\u001B[0m\u001B[0;34m:\u001B[0m\u001B[0;34m\u001B[0m\u001B[0;34m\u001B[0m\u001B[0m\n\u001B[1;32m   4152\u001B[0m             \u001B[0;32mif\u001B[0m \u001B[0mlabels\u001B[0m \u001B[0;32mis\u001B[0m \u001B[0;32mnot\u001B[0m \u001B[0;32mNone\u001B[0m\u001B[0;34m:\u001B[0m\u001B[0;34m\u001B[0m\u001B[0;34m\u001B[0m\u001B[0m\n\u001B[0;32m-> 4153\u001B[0;31m                 \u001B[0mobj\u001B[0m \u001B[0;34m=\u001B[0m \u001B[0mobj\u001B[0m\u001B[0;34m.\u001B[0m\u001B[0m_drop_axis\u001B[0m\u001B[0;34m(\u001B[0m\u001B[0mlabels\u001B[0m\u001B[0;34m,\u001B[0m \u001B[0maxis\u001B[0m\u001B[0;34m,\u001B[0m \u001B[0mlevel\u001B[0m\u001B[0;34m=\u001B[0m\u001B[0mlevel\u001B[0m\u001B[0;34m,\u001B[0m \u001B[0merrors\u001B[0m\u001B[0;34m=\u001B[0m\u001B[0merrors\u001B[0m\u001B[0;34m)\u001B[0m\u001B[0;34m\u001B[0m\u001B[0;34m\u001B[0m\u001B[0m\n\u001B[0m\u001B[1;32m   4154\u001B[0m \u001B[0;34m\u001B[0m\u001B[0m\n\u001B[1;32m   4155\u001B[0m         \u001B[0;32mif\u001B[0m \u001B[0minplace\u001B[0m\u001B[0;34m:\u001B[0m\u001B[0;34m\u001B[0m\u001B[0;34m\u001B[0m\u001B[0m\n",
      "\u001B[0;32m/opt/anaconda3/lib/python3.8/site-packages/pandas/core/generic.py\u001B[0m in \u001B[0;36m_drop_axis\u001B[0;34m(self, labels, axis, level, errors)\u001B[0m\n\u001B[1;32m   4186\u001B[0m                 \u001B[0mnew_axis\u001B[0m \u001B[0;34m=\u001B[0m \u001B[0maxis\u001B[0m\u001B[0;34m.\u001B[0m\u001B[0mdrop\u001B[0m\u001B[0;34m(\u001B[0m\u001B[0mlabels\u001B[0m\u001B[0;34m,\u001B[0m \u001B[0mlevel\u001B[0m\u001B[0;34m=\u001B[0m\u001B[0mlevel\u001B[0m\u001B[0;34m,\u001B[0m \u001B[0merrors\u001B[0m\u001B[0;34m=\u001B[0m\u001B[0merrors\u001B[0m\u001B[0;34m)\u001B[0m\u001B[0;34m\u001B[0m\u001B[0;34m\u001B[0m\u001B[0m\n\u001B[1;32m   4187\u001B[0m             \u001B[0;32melse\u001B[0m\u001B[0;34m:\u001B[0m\u001B[0;34m\u001B[0m\u001B[0;34m\u001B[0m\u001B[0m\n\u001B[0;32m-> 4188\u001B[0;31m                 \u001B[0mnew_axis\u001B[0m \u001B[0;34m=\u001B[0m \u001B[0maxis\u001B[0m\u001B[0;34m.\u001B[0m\u001B[0mdrop\u001B[0m\u001B[0;34m(\u001B[0m\u001B[0mlabels\u001B[0m\u001B[0;34m,\u001B[0m \u001B[0merrors\u001B[0m\u001B[0;34m=\u001B[0m\u001B[0merrors\u001B[0m\u001B[0;34m)\u001B[0m\u001B[0;34m\u001B[0m\u001B[0;34m\u001B[0m\u001B[0m\n\u001B[0m\u001B[1;32m   4189\u001B[0m             \u001B[0mresult\u001B[0m \u001B[0;34m=\u001B[0m \u001B[0mself\u001B[0m\u001B[0;34m.\u001B[0m\u001B[0mreindex\u001B[0m\u001B[0;34m(\u001B[0m\u001B[0;34m**\u001B[0m\u001B[0;34m{\u001B[0m\u001B[0maxis_name\u001B[0m\u001B[0;34m:\u001B[0m \u001B[0mnew_axis\u001B[0m\u001B[0;34m}\u001B[0m\u001B[0;34m)\u001B[0m\u001B[0;34m\u001B[0m\u001B[0;34m\u001B[0m\u001B[0m\n\u001B[1;32m   4190\u001B[0m \u001B[0;34m\u001B[0m\u001B[0m\n",
      "\u001B[0;32m/opt/anaconda3/lib/python3.8/site-packages/pandas/core/indexes/base.py\u001B[0m in \u001B[0;36mdrop\u001B[0;34m(self, labels, errors)\u001B[0m\n\u001B[1;32m   5589\u001B[0m         \u001B[0;32mif\u001B[0m \u001B[0mmask\u001B[0m\u001B[0;34m.\u001B[0m\u001B[0many\u001B[0m\u001B[0;34m(\u001B[0m\u001B[0;34m)\u001B[0m\u001B[0;34m:\u001B[0m\u001B[0;34m\u001B[0m\u001B[0;34m\u001B[0m\u001B[0m\n\u001B[1;32m   5590\u001B[0m             \u001B[0;32mif\u001B[0m \u001B[0merrors\u001B[0m \u001B[0;34m!=\u001B[0m \u001B[0;34m\"ignore\"\u001B[0m\u001B[0;34m:\u001B[0m\u001B[0;34m\u001B[0m\u001B[0;34m\u001B[0m\u001B[0m\n\u001B[0;32m-> 5591\u001B[0;31m                 \u001B[0;32mraise\u001B[0m \u001B[0mKeyError\u001B[0m\u001B[0;34m(\u001B[0m\u001B[0;34mf\"{labels[mask]} not found in axis\"\u001B[0m\u001B[0;34m)\u001B[0m\u001B[0;34m\u001B[0m\u001B[0;34m\u001B[0m\u001B[0m\n\u001B[0m\u001B[1;32m   5592\u001B[0m             \u001B[0mindexer\u001B[0m \u001B[0;34m=\u001B[0m \u001B[0mindexer\u001B[0m\u001B[0;34m[\u001B[0m\u001B[0;34m~\u001B[0m\u001B[0mmask\u001B[0m\u001B[0;34m]\u001B[0m\u001B[0;34m\u001B[0m\u001B[0;34m\u001B[0m\u001B[0m\n\u001B[1;32m   5593\u001B[0m         \u001B[0;32mreturn\u001B[0m \u001B[0mself\u001B[0m\u001B[0;34m.\u001B[0m\u001B[0mdelete\u001B[0m\u001B[0;34m(\u001B[0m\u001B[0mindexer\u001B[0m\u001B[0;34m)\u001B[0m\u001B[0;34m\u001B[0m\u001B[0;34m\u001B[0m\u001B[0m\n",
      "\u001B[0;31mKeyError\u001B[0m: \"['CStyles' 'Cuisine_Style'] not found in axis\""
     ]
    }
   ],
   "source": [
    "df = df.drop(['CStyles', 'Cuisine_Style'], axis=1)\n",
    "df = clean_spaces(df) # в названиях кухонь встречаются пробелы\n",
    "df.head(3)"
   ],
   "metadata": {
    "collapsed": false,
    "pycharm": {
     "name": "#%%\n"
    }
   }
  },
  {
   "cell_type": "code",
   "execution_count": 20,
   "outputs": [
    {
     "name": "stderr",
     "output_type": "stream",
     "text": [
      "[Parallel(n_jobs=-1)]: Using backend ThreadingBackend with 8 concurrent workers.\n",
      "[Parallel(n_jobs=-1)]: Done  34 tasks      | elapsed:    3.9s\n"
     ]
    },
    {
     "name": "stdout",
     "output_type": "stream",
     "text": [
      "Длительность: 11.109283132000002 sec\n",
      "MAE: 0.2118685\n",
      "MAE2: 0.182\n"
     ]
    },
    {
     "name": "stderr",
     "output_type": "stream",
     "text": [
      "[Parallel(n_jobs=-1)]: Done 100 out of 100 | elapsed:   10.8s finished\n",
      "[Parallel(n_jobs=8)]: Using backend ThreadingBackend with 8 concurrent workers.\n",
      "[Parallel(n_jobs=8)]: Done  34 tasks      | elapsed:    0.0s\n",
      "[Parallel(n_jobs=8)]: Done 100 out of 100 | elapsed:    0.1s finished\n"
     ]
    }
   ],
   "source": [
    "testdf=df.drop(['Price_Range','Reviews'],axis=1)\n",
    "RFR_test(testdf)"
   ],
   "metadata": {
    "collapsed": false,
    "pycharm": {
     "name": "#%%\n"
    }
   }
  },
  {
   "cell_type": "code",
   "source": [
    "testdf = df.drop(['Reviews'],axis=1)\n",
    "testdf.head(3)"
   ],
   "metadata": {
    "collapsed": false,
    "pycharm": {
     "name": "#%%\n"
    }
   },
   "execution_count": 21,
   "outputs": [
    {
     "data": {
      "text/plain": "  Restaurant_id  Ranking  Rating Price_Range  Number_of_Reviews  Amsterdam  \\\n0       id_5569   5570.0     3.5    $$ - $$$              194.0          0   \n1       id_1535   1537.0     4.0    $$ - $$$               10.0          0   \n2        id_352    353.0     4.5        $$$$              688.0          0   \n\n   Athens  Barcelona  Berlin  Bratislava  ...  Salvadoran  Yunnan  \\\n0       0          0       0           0  ...           0       0   \n1       0          0       0           0  ...           0       0   \n2       0          0       0           0  ...           0       0   \n\n   Native_American  Canadian  Xinjiang  Burmese  Fujian  Welsh  Latvian  \\\n0                0         0         0        0       0      0        0   \n1                0         0         0        0       0      0        0   \n2                0         0         0        0       0      0        0   \n\n   Num_Cuisines  \n0             3  \n1             1  \n2             7  \n\n[3 rows x 185 columns]",
      "text/html": "<div>\n<style scoped>\n    .dataframe tbody tr th:only-of-type {\n        vertical-align: middle;\n    }\n\n    .dataframe tbody tr th {\n        vertical-align: top;\n    }\n\n    .dataframe thead th {\n        text-align: right;\n    }\n</style>\n<table border=\"1\" class=\"dataframe\">\n  <thead>\n    <tr style=\"text-align: right;\">\n      <th></th>\n      <th>Restaurant_id</th>\n      <th>Ranking</th>\n      <th>Rating</th>\n      <th>Price_Range</th>\n      <th>Number_of_Reviews</th>\n      <th>Amsterdam</th>\n      <th>Athens</th>\n      <th>Barcelona</th>\n      <th>Berlin</th>\n      <th>Bratislava</th>\n      <th>...</th>\n      <th>Salvadoran</th>\n      <th>Yunnan</th>\n      <th>Native_American</th>\n      <th>Canadian</th>\n      <th>Xinjiang</th>\n      <th>Burmese</th>\n      <th>Fujian</th>\n      <th>Welsh</th>\n      <th>Latvian</th>\n      <th>Num_Cuisines</th>\n    </tr>\n  </thead>\n  <tbody>\n    <tr>\n      <th>0</th>\n      <td>id_5569</td>\n      <td>5570.0</td>\n      <td>3.5</td>\n      <td>$$ - $$$</td>\n      <td>194.0</td>\n      <td>0</td>\n      <td>0</td>\n      <td>0</td>\n      <td>0</td>\n      <td>0</td>\n      <td>...</td>\n      <td>0</td>\n      <td>0</td>\n      <td>0</td>\n      <td>0</td>\n      <td>0</td>\n      <td>0</td>\n      <td>0</td>\n      <td>0</td>\n      <td>0</td>\n      <td>3</td>\n    </tr>\n    <tr>\n      <th>1</th>\n      <td>id_1535</td>\n      <td>1537.0</td>\n      <td>4.0</td>\n      <td>$$ - $$$</td>\n      <td>10.0</td>\n      <td>0</td>\n      <td>0</td>\n      <td>0</td>\n      <td>0</td>\n      <td>0</td>\n      <td>...</td>\n      <td>0</td>\n      <td>0</td>\n      <td>0</td>\n      <td>0</td>\n      <td>0</td>\n      <td>0</td>\n      <td>0</td>\n      <td>0</td>\n      <td>0</td>\n      <td>1</td>\n    </tr>\n    <tr>\n      <th>2</th>\n      <td>id_352</td>\n      <td>353.0</td>\n      <td>4.5</td>\n      <td>$$$$</td>\n      <td>688.0</td>\n      <td>0</td>\n      <td>0</td>\n      <td>0</td>\n      <td>0</td>\n      <td>0</td>\n      <td>...</td>\n      <td>0</td>\n      <td>0</td>\n      <td>0</td>\n      <td>0</td>\n      <td>0</td>\n      <td>0</td>\n      <td>0</td>\n      <td>0</td>\n      <td>0</td>\n      <td>7</td>\n    </tr>\n  </tbody>\n</table>\n<p>3 rows × 185 columns</p>\n</div>"
     },
     "execution_count": 21,
     "metadata": {},
     "output_type": "execute_result"
    }
   ]
  },
  {
   "cell_type": "code",
   "execution_count": 22,
   "outputs": [
    {
     "data": {
      "text/plain": "  Restaurant_id  Ranking  Rating  Number_of_Reviews  Amsterdam  Athens  \\\n0       id_5569   5570.0     3.5              194.0          0       0   \n1       id_1535   1537.0     4.0               10.0          0       0   \n2        id_352    353.0     4.5              688.0          0       0   \n\n   Barcelona  Berlin  Bratislava  Brussels  ...  Canadian  Xinjiang  Burmese  \\\n0          0       0           0         0  ...         0         0        0   \n1          0       0           0         0  ...         0         0        0   \n2          0       0           0         0  ...         0         0        0   \n\n   Fujian  Welsh  Latvian  Num_Cuisines  High  Low  Mid  \n0       0      0        0             3     0    0    1  \n1       0      0        0             1     0    0    1  \n2       0      0        0             7     1    0    0  \n\n[3 rows x 187 columns]",
      "text/html": "<div>\n<style scoped>\n    .dataframe tbody tr th:only-of-type {\n        vertical-align: middle;\n    }\n\n    .dataframe tbody tr th {\n        vertical-align: top;\n    }\n\n    .dataframe thead th {\n        text-align: right;\n    }\n</style>\n<table border=\"1\" class=\"dataframe\">\n  <thead>\n    <tr style=\"text-align: right;\">\n      <th></th>\n      <th>Restaurant_id</th>\n      <th>Ranking</th>\n      <th>Rating</th>\n      <th>Number_of_Reviews</th>\n      <th>Amsterdam</th>\n      <th>Athens</th>\n      <th>Barcelona</th>\n      <th>Berlin</th>\n      <th>Bratislava</th>\n      <th>Brussels</th>\n      <th>...</th>\n      <th>Canadian</th>\n      <th>Xinjiang</th>\n      <th>Burmese</th>\n      <th>Fujian</th>\n      <th>Welsh</th>\n      <th>Latvian</th>\n      <th>Num_Cuisines</th>\n      <th>High</th>\n      <th>Low</th>\n      <th>Mid</th>\n    </tr>\n  </thead>\n  <tbody>\n    <tr>\n      <th>0</th>\n      <td>id_5569</td>\n      <td>5570.0</td>\n      <td>3.5</td>\n      <td>194.0</td>\n      <td>0</td>\n      <td>0</td>\n      <td>0</td>\n      <td>0</td>\n      <td>0</td>\n      <td>0</td>\n      <td>...</td>\n      <td>0</td>\n      <td>0</td>\n      <td>0</td>\n      <td>0</td>\n      <td>0</td>\n      <td>0</td>\n      <td>3</td>\n      <td>0</td>\n      <td>0</td>\n      <td>1</td>\n    </tr>\n    <tr>\n      <th>1</th>\n      <td>id_1535</td>\n      <td>1537.0</td>\n      <td>4.0</td>\n      <td>10.0</td>\n      <td>0</td>\n      <td>0</td>\n      <td>0</td>\n      <td>0</td>\n      <td>0</td>\n      <td>0</td>\n      <td>...</td>\n      <td>0</td>\n      <td>0</td>\n      <td>0</td>\n      <td>0</td>\n      <td>0</td>\n      <td>0</td>\n      <td>1</td>\n      <td>0</td>\n      <td>0</td>\n      <td>1</td>\n    </tr>\n    <tr>\n      <th>2</th>\n      <td>id_352</td>\n      <td>353.0</td>\n      <td>4.5</td>\n      <td>688.0</td>\n      <td>0</td>\n      <td>0</td>\n      <td>0</td>\n      <td>0</td>\n      <td>0</td>\n      <td>0</td>\n      <td>...</td>\n      <td>0</td>\n      <td>0</td>\n      <td>0</td>\n      <td>0</td>\n      <td>0</td>\n      <td>0</td>\n      <td>7</td>\n      <td>1</td>\n      <td>0</td>\n      <td>0</td>\n    </tr>\n  </tbody>\n</table>\n<p>3 rows × 187 columns</p>\n</div>"
     },
     "execution_count": 22,
     "metadata": {},
     "output_type": "execute_result"
    }
   ],
   "source": [
    "# Словарик и преобразование диапазона цен в набор индексов\n",
    "PriceRanges = { '$':'Low', '$$$$': 'High', '$$ - $$$': 'Mid' }\n",
    "testdf['PRange']= testdf['Price_Range'].apply(lambda c: PriceRanges[c])\n",
    "pr_columns = pd.get_dummies(testdf['PRange'])\n",
    "testdf = testdf.join(pr_columns).drop(['Price_Range','PRange'],axis=1)\n",
    "testdf.head(3)"
   ],
   "metadata": {
    "collapsed": false,
    "pycharm": {
     "name": "#%%\n"
    }
   }
  },
  {
   "cell_type": "code",
   "execution_count": 23,
   "outputs": [
    {
     "name": "stderr",
     "output_type": "stream",
     "text": [
      "[Parallel(n_jobs=-1)]: Using backend ThreadingBackend with 8 concurrent workers.\n",
      "[Parallel(n_jobs=-1)]: Done  34 tasks      | elapsed:    4.1s\n"
     ]
    },
    {
     "name": "stdout",
     "output_type": "stream",
     "text": [
      "Длительность: 10.421321922000004 sec\n",
      "MAE: 0.211796\n",
      "MAE2: 0.1833\n"
     ]
    },
    {
     "name": "stderr",
     "output_type": "stream",
     "text": [
      "[Parallel(n_jobs=-1)]: Done 100 out of 100 | elapsed:   10.1s finished\n",
      "[Parallel(n_jobs=8)]: Using backend ThreadingBackend with 8 concurrent workers.\n",
      "[Parallel(n_jobs=8)]: Done  34 tasks      | elapsed:    0.0s\n",
      "[Parallel(n_jobs=8)]: Done 100 out of 100 | elapsed:    0.1s finished\n"
     ]
    }
   ],
   "source": [
    "\n",
    "RFR_test(testdf)"
   ],
   "metadata": {
    "collapsed": false,
    "pycharm": {
     "name": "#%%\n"
    }
   }
  },
  {
   "cell_type": "code",
   "execution_count": 24,
   "outputs": [
    {
     "data": {
      "text/plain": "  Restaurant_id  Ranking  Rating Price_Range  Number_of_Reviews  Amsterdam  \\\n0       id_5569   5570.0     3.5    $$ - $$$              194.0          0   \n1       id_1535   1537.0     4.0    $$ - $$$               10.0          0   \n2        id_352    353.0     4.5        $$$$              688.0          0   \n\n   Athens  Barcelona  Berlin  Bratislava  ...  Salvadoran  Yunnan  \\\n0       0          0       0           0  ...           0       0   \n1       0          0       0           0  ...           0       0   \n2       0          0       0           0  ...           0       0   \n\n   Native_American  Canadian  Xinjiang  Burmese  Fujian  Welsh  Latvian  \\\n0                0         0         0        0       0      0        0   \n1                0         0         0        0       0      0        0   \n2                0         0         0        0       0      0        0   \n\n   Num_Cuisines  \n0             3  \n1             1  \n2             7  \n\n[3 rows x 185 columns]",
      "text/html": "<div>\n<style scoped>\n    .dataframe tbody tr th:only-of-type {\n        vertical-align: middle;\n    }\n\n    .dataframe tbody tr th {\n        vertical-align: top;\n    }\n\n    .dataframe thead th {\n        text-align: right;\n    }\n</style>\n<table border=\"1\" class=\"dataframe\">\n  <thead>\n    <tr style=\"text-align: right;\">\n      <th></th>\n      <th>Restaurant_id</th>\n      <th>Ranking</th>\n      <th>Rating</th>\n      <th>Price_Range</th>\n      <th>Number_of_Reviews</th>\n      <th>Amsterdam</th>\n      <th>Athens</th>\n      <th>Barcelona</th>\n      <th>Berlin</th>\n      <th>Bratislava</th>\n      <th>...</th>\n      <th>Salvadoran</th>\n      <th>Yunnan</th>\n      <th>Native_American</th>\n      <th>Canadian</th>\n      <th>Xinjiang</th>\n      <th>Burmese</th>\n      <th>Fujian</th>\n      <th>Welsh</th>\n      <th>Latvian</th>\n      <th>Num_Cuisines</th>\n    </tr>\n  </thead>\n  <tbody>\n    <tr>\n      <th>0</th>\n      <td>id_5569</td>\n      <td>5570.0</td>\n      <td>3.5</td>\n      <td>$$ - $$$</td>\n      <td>194.0</td>\n      <td>0</td>\n      <td>0</td>\n      <td>0</td>\n      <td>0</td>\n      <td>0</td>\n      <td>...</td>\n      <td>0</td>\n      <td>0</td>\n      <td>0</td>\n      <td>0</td>\n      <td>0</td>\n      <td>0</td>\n      <td>0</td>\n      <td>0</td>\n      <td>0</td>\n      <td>3</td>\n    </tr>\n    <tr>\n      <th>1</th>\n      <td>id_1535</td>\n      <td>1537.0</td>\n      <td>4.0</td>\n      <td>$$ - $$$</td>\n      <td>10.0</td>\n      <td>0</td>\n      <td>0</td>\n      <td>0</td>\n      <td>0</td>\n      <td>0</td>\n      <td>...</td>\n      <td>0</td>\n      <td>0</td>\n      <td>0</td>\n      <td>0</td>\n      <td>0</td>\n      <td>0</td>\n      <td>0</td>\n      <td>0</td>\n      <td>0</td>\n      <td>1</td>\n    </tr>\n    <tr>\n      <th>2</th>\n      <td>id_352</td>\n      <td>353.0</td>\n      <td>4.5</td>\n      <td>$$$$</td>\n      <td>688.0</td>\n      <td>0</td>\n      <td>0</td>\n      <td>0</td>\n      <td>0</td>\n      <td>0</td>\n      <td>...</td>\n      <td>0</td>\n      <td>0</td>\n      <td>0</td>\n      <td>0</td>\n      <td>0</td>\n      <td>0</td>\n      <td>0</td>\n      <td>0</td>\n      <td>0</td>\n      <td>7</td>\n    </tr>\n  </tbody>\n</table>\n<p>3 rows × 185 columns</p>\n</div>"
     },
     "execution_count": 24,
     "metadata": {},
     "output_type": "execute_result"
    }
   ],
   "source": [
    "testdf = df.drop(['Reviews'],axis=1)\n",
    "testdf.head(3)"
   ],
   "metadata": {
    "collapsed": false,
    "pycharm": {
     "name": "#%%\n"
    }
   }
  },
  {
   "cell_type": "code",
   "execution_count": 25,
   "outputs": [
    {
     "data": {
      "text/plain": "  Restaurant_id  Ranking  Rating  Number_of_Reviews  \\\n0       id_5569   5570.0     3.5              194.0   \n1       id_1535   1537.0     4.0               10.0   \n2        id_352    353.0     4.5              688.0   \n\n                                             Reviews  Amsterdam  Athens  \\\n0  [['Good food at your doorstep', 'A good hotel ...          0       0   \n1  [['Unique cuisine', 'Delicious Nepalese food']...          0       0   \n2  [['Catch up with friends', 'Not exceptional'],...          0       0   \n\n   Barcelona  Berlin  Bratislava  ...  Yunnan  Native_American  Canadian  \\\n0          0       0           0  ...       0                0         0   \n1          0       0           0  ...       0                0         0   \n2          0       0           0  ...       0                0         0   \n\n   Xinjiang  Burmese  Fujian  Welsh  Latvian  Num_Cuisines  PRange  \n0         0        0       0      0        0             3     2.0  \n1         0        0       0      0        0             1     2.0  \n2         0        0       0      0        0             7     3.0  \n\n[3 rows x 186 columns]",
      "text/html": "<div>\n<style scoped>\n    .dataframe tbody tr th:only-of-type {\n        vertical-align: middle;\n    }\n\n    .dataframe tbody tr th {\n        vertical-align: top;\n    }\n\n    .dataframe thead th {\n        text-align: right;\n    }\n</style>\n<table border=\"1\" class=\"dataframe\">\n  <thead>\n    <tr style=\"text-align: right;\">\n      <th></th>\n      <th>Restaurant_id</th>\n      <th>Ranking</th>\n      <th>Rating</th>\n      <th>Number_of_Reviews</th>\n      <th>Reviews</th>\n      <th>Amsterdam</th>\n      <th>Athens</th>\n      <th>Barcelona</th>\n      <th>Berlin</th>\n      <th>Bratislava</th>\n      <th>...</th>\n      <th>Yunnan</th>\n      <th>Native_American</th>\n      <th>Canadian</th>\n      <th>Xinjiang</th>\n      <th>Burmese</th>\n      <th>Fujian</th>\n      <th>Welsh</th>\n      <th>Latvian</th>\n      <th>Num_Cuisines</th>\n      <th>PRange</th>\n    </tr>\n  </thead>\n  <tbody>\n    <tr>\n      <th>0</th>\n      <td>id_5569</td>\n      <td>5570.0</td>\n      <td>3.5</td>\n      <td>194.0</td>\n      <td>[['Good food at your doorstep', 'A good hotel ...</td>\n      <td>0</td>\n      <td>0</td>\n      <td>0</td>\n      <td>0</td>\n      <td>0</td>\n      <td>...</td>\n      <td>0</td>\n      <td>0</td>\n      <td>0</td>\n      <td>0</td>\n      <td>0</td>\n      <td>0</td>\n      <td>0</td>\n      <td>0</td>\n      <td>3</td>\n      <td>2.0</td>\n    </tr>\n    <tr>\n      <th>1</th>\n      <td>id_1535</td>\n      <td>1537.0</td>\n      <td>4.0</td>\n      <td>10.0</td>\n      <td>[['Unique cuisine', 'Delicious Nepalese food']...</td>\n      <td>0</td>\n      <td>0</td>\n      <td>0</td>\n      <td>0</td>\n      <td>0</td>\n      <td>...</td>\n      <td>0</td>\n      <td>0</td>\n      <td>0</td>\n      <td>0</td>\n      <td>0</td>\n      <td>0</td>\n      <td>0</td>\n      <td>0</td>\n      <td>1</td>\n      <td>2.0</td>\n    </tr>\n    <tr>\n      <th>2</th>\n      <td>id_352</td>\n      <td>353.0</td>\n      <td>4.5</td>\n      <td>688.0</td>\n      <td>[['Catch up with friends', 'Not exceptional'],...</td>\n      <td>0</td>\n      <td>0</td>\n      <td>0</td>\n      <td>0</td>\n      <td>0</td>\n      <td>...</td>\n      <td>0</td>\n      <td>0</td>\n      <td>0</td>\n      <td>0</td>\n      <td>0</td>\n      <td>0</td>\n      <td>0</td>\n      <td>0</td>\n      <td>7</td>\n      <td>3.0</td>\n    </tr>\n  </tbody>\n</table>\n<p>3 rows × 186 columns</p>\n</div>"
     },
     "execution_count": 25,
     "metadata": {},
     "output_type": "execute_result"
    }
   ],
   "source": [
    "# Словарик и преобразование диапазона цен в набор значений\n",
    "# Проверка показала что это более эффективное решение, чем one_hot кодирование. Быстрее и ошибки меньше.\n",
    "PriceRanges = { '$':1.0, '$$$$': 3.0, '$$ - $$$': 2.0 }\n",
    "df['PRange']= df['Price_Range'].apply(lambda c: PriceRanges[c])\n",
    "df = df.drop(['Price_Range'],axis=1)\n",
    "df.head(3)"
   ],
   "metadata": {
    "collapsed": false,
    "pycharm": {
     "name": "#%%\n"
    }
   }
  },
  {
   "cell_type": "code",
   "execution_count": 26,
   "outputs": [
    {
     "data": {
      "text/plain": "  Restaurant_id  Ranking  Rating  Number_of_Reviews  Amsterdam  Athens  \\\n0       id_5569   5570.0     3.5              194.0          0       0   \n1       id_1535   1537.0     4.0               10.0          0       0   \n2        id_352    353.0     4.5              688.0          0       0   \n\n   Barcelona  Berlin  Bratislava  Brussels  ...  Yunnan  Native_American  \\\n0          0       0           0         0  ...       0                0   \n1          0       0           0         0  ...       0                0   \n2          0       0           0         0  ...       0                0   \n\n   Canadian  Xinjiang  Burmese  Fujian  Welsh  Latvian  Num_Cuisines  PRange  \n0         0         0        0       0      0        0             3     2.0  \n1         0         0        0       0      0        0             1     2.0  \n2         0         0        0       0      0        0             7     3.0  \n\n[3 rows x 185 columns]",
      "text/html": "<div>\n<style scoped>\n    .dataframe tbody tr th:only-of-type {\n        vertical-align: middle;\n    }\n\n    .dataframe tbody tr th {\n        vertical-align: top;\n    }\n\n    .dataframe thead th {\n        text-align: right;\n    }\n</style>\n<table border=\"1\" class=\"dataframe\">\n  <thead>\n    <tr style=\"text-align: right;\">\n      <th></th>\n      <th>Restaurant_id</th>\n      <th>Ranking</th>\n      <th>Rating</th>\n      <th>Number_of_Reviews</th>\n      <th>Amsterdam</th>\n      <th>Athens</th>\n      <th>Barcelona</th>\n      <th>Berlin</th>\n      <th>Bratislava</th>\n      <th>Brussels</th>\n      <th>...</th>\n      <th>Yunnan</th>\n      <th>Native_American</th>\n      <th>Canadian</th>\n      <th>Xinjiang</th>\n      <th>Burmese</th>\n      <th>Fujian</th>\n      <th>Welsh</th>\n      <th>Latvian</th>\n      <th>Num_Cuisines</th>\n      <th>PRange</th>\n    </tr>\n  </thead>\n  <tbody>\n    <tr>\n      <th>0</th>\n      <td>id_5569</td>\n      <td>5570.0</td>\n      <td>3.5</td>\n      <td>194.0</td>\n      <td>0</td>\n      <td>0</td>\n      <td>0</td>\n      <td>0</td>\n      <td>0</td>\n      <td>0</td>\n      <td>...</td>\n      <td>0</td>\n      <td>0</td>\n      <td>0</td>\n      <td>0</td>\n      <td>0</td>\n      <td>0</td>\n      <td>0</td>\n      <td>0</td>\n      <td>3</td>\n      <td>2.0</td>\n    </tr>\n    <tr>\n      <th>1</th>\n      <td>id_1535</td>\n      <td>1537.0</td>\n      <td>4.0</td>\n      <td>10.0</td>\n      <td>0</td>\n      <td>0</td>\n      <td>0</td>\n      <td>0</td>\n      <td>0</td>\n      <td>0</td>\n      <td>...</td>\n      <td>0</td>\n      <td>0</td>\n      <td>0</td>\n      <td>0</td>\n      <td>0</td>\n      <td>0</td>\n      <td>0</td>\n      <td>0</td>\n      <td>1</td>\n      <td>2.0</td>\n    </tr>\n    <tr>\n      <th>2</th>\n      <td>id_352</td>\n      <td>353.0</td>\n      <td>4.5</td>\n      <td>688.0</td>\n      <td>0</td>\n      <td>0</td>\n      <td>0</td>\n      <td>0</td>\n      <td>0</td>\n      <td>0</td>\n      <td>...</td>\n      <td>0</td>\n      <td>0</td>\n      <td>0</td>\n      <td>0</td>\n      <td>0</td>\n      <td>0</td>\n      <td>0</td>\n      <td>0</td>\n      <td>7</td>\n      <td>3.0</td>\n    </tr>\n  </tbody>\n</table>\n<p>3 rows × 185 columns</p>\n</div>"
     },
     "execution_count": 26,
     "metadata": {},
     "output_type": "execute_result"
    }
   ],
   "source": [
    "testdf=df.drop(['Reviews'],axis=1)\n",
    "testdf.head(3)"
   ],
   "metadata": {
    "collapsed": false,
    "pycharm": {
     "name": "#%%\n"
    }
   }
  },
  {
   "cell_type": "code",
   "execution_count": 27,
   "outputs": [
    {
     "name": "stderr",
     "output_type": "stream",
     "text": [
      "[Parallel(n_jobs=-1)]: Using backend ThreadingBackend with 8 concurrent workers.\n",
      "[Parallel(n_jobs=-1)]: Done  34 tasks      | elapsed:    3.9s\n"
     ]
    },
    {
     "name": "stdout",
     "output_type": "stream",
     "text": [
      "Длительность: 10.706079412999998 sec\n",
      "MAE: 0.2113025\n",
      "MAE2: 0.18235\n"
     ]
    },
    {
     "name": "stderr",
     "output_type": "stream",
     "text": [
      "[Parallel(n_jobs=-1)]: Done 100 out of 100 | elapsed:   10.4s finished\n",
      "[Parallel(n_jobs=8)]: Using backend ThreadingBackend with 8 concurrent workers.\n",
      "[Parallel(n_jobs=8)]: Done  34 tasks      | elapsed:    0.0s\n",
      "[Parallel(n_jobs=8)]: Done 100 out of 100 | elapsed:    0.1s finished\n"
     ]
    }
   ],
   "source": [
    "RFR_test(testdf)"
   ],
   "metadata": {
    "collapsed": false,
    "pycharm": {
     "name": "#%%\n"
    }
   }
  },
  {
   "cell_type": "markdown",
   "source": [
    "Вывод - набор индексных переменных иногда хуже, чем единственная количественная упорядоченная переменная."
   ],
   "metadata": {
    "collapsed": false
   }
  },
  {
   "cell_type": "code",
   "execution_count": 28,
   "outputs": [],
   "source": [
    "def strip(text):\n",
    "    return text[1:-1]"
   ],
   "metadata": {
    "collapsed": false,
    "pycharm": {
     "name": "#%%\n"
    }
   }
  },
  {
   "cell_type": "code",
   "execution_count": 29,
   "outputs": [],
   "source": [
    "def firstsplit(text):\n",
    "    text = strip(text)\n",
    "    # print(text)\n",
    "    if '],' in text:\n",
    "        pos = text.rfind('],')\n",
    "        return strip(text[:pos+1]), strip(text[pos+3:])\n",
    "    else:\n",
    "        return '', ''"
   ],
   "metadata": {
    "collapsed": false,
    "pycharm": {
     "name": "#%%\n"
    }
   }
  },
  {
   "cell_type": "code",
   "execution_count": 30,
   "outputs": [],
   "source": [
    "def nextsplit(text):\n",
    "    if '\", ' in text:\n",
    "        pos = text.find('\", ')\n",
    "    elif \"', \" in text:\n",
    "        pos = text.find(\"', \")\n",
    "    else:\n",
    "        return strip(text), ''\n",
    "    return strip(text[:pos+1]), strip(text[pos+3:])"
   ],
   "metadata": {
    "collapsed": false,
    "pycharm": {
     "name": "#%%\n"
    }
   }
  },
  {
   "cell_type": "code",
   "execution_count": 31,
   "outputs": [],
   "source": [
    "def split_review(text):\n",
    "    t,d = firstsplit(text)\n",
    "    t1, t2 = nextsplit(t); d1, d2 = nextsplit(d)\n",
    "    nr = 2 if len(t1) > 0 and len(t2) > 0 else ( 1 if len(t1) > 0 else 0 )\n",
    "    return [nr, t1, t2, d1, d2]"
   ],
   "metadata": {
    "collapsed": false,
    "pycharm": {
     "name": "#%%\n"
    }
   }
  },
  {
   "cell_type": "code",
   "execution_count": 68,
   "outputs": [
    {
     "data": {
      "text/plain": "  Restaurant_id  Ranking  Rating  Number_of_Reviews  \\\n0       id_5569   5570.0     3.5              194.0   \n1       id_1535   1537.0     4.0               10.0   \n2        id_352    353.0     4.5              688.0   \n\n                                             Reviews  Amsterdam  Athens  \\\n0  [['Good food at your doorstep', 'A good hotel ...          0       0   \n1  [['Unique cuisine', 'Delicious Nepalese food']...          0       0   \n2  [['Catch up with friends', 'Not exceptional'],...          0       0   \n\n   Barcelona  Berlin  Bratislava  ...  Num_Cuisines  PRange  Num_Disp_Rev  \\\n0          0       0           0  ...             3     2.0             2   \n1          0       0           0  ...             1     2.0             2   \n2          0       0           0  ...             7     3.0             2   \n\n   Review_polarity  Review_polarity_variation  Review_subjectivity  \\\n0         0.700000                   0.000000                  0.6   \n1         0.687500                   0.312500                  1.0   \n2        -0.166667                   0.166667                  0.5   \n\n   Review_subjectivity_variation  Recent_Review_date  Review_dates_span  \\\n0                            0.0            736694.0                 41   \n1                            0.0            736516.0                382   \n2                            0.5            736702.0                  2   \n\n                                                  RL  \n0  [2, Good food at your doorstep, A good hotel r...  \n1  [2, Unique cuisine, Delicious Nepalese food, 0...  \n2  [2, Catch up with friends, Not exceptional, 01...  \n\n[3 rows x 194 columns]",
      "text/html": "<div>\n<style scoped>\n    .dataframe tbody tr th:only-of-type {\n        vertical-align: middle;\n    }\n\n    .dataframe tbody tr th {\n        vertical-align: top;\n    }\n\n    .dataframe thead th {\n        text-align: right;\n    }\n</style>\n<table border=\"1\" class=\"dataframe\">\n  <thead>\n    <tr style=\"text-align: right;\">\n      <th></th>\n      <th>Restaurant_id</th>\n      <th>Ranking</th>\n      <th>Rating</th>\n      <th>Number_of_Reviews</th>\n      <th>Reviews</th>\n      <th>Amsterdam</th>\n      <th>Athens</th>\n      <th>Barcelona</th>\n      <th>Berlin</th>\n      <th>Bratislava</th>\n      <th>...</th>\n      <th>Num_Cuisines</th>\n      <th>PRange</th>\n      <th>Num_Disp_Rev</th>\n      <th>Review_polarity</th>\n      <th>Review_polarity_variation</th>\n      <th>Review_subjectivity</th>\n      <th>Review_subjectivity_variation</th>\n      <th>Recent_Review_date</th>\n      <th>Review_dates_span</th>\n      <th>RL</th>\n    </tr>\n  </thead>\n  <tbody>\n    <tr>\n      <th>0</th>\n      <td>id_5569</td>\n      <td>5570.0</td>\n      <td>3.5</td>\n      <td>194.0</td>\n      <td>[['Good food at your doorstep', 'A good hotel ...</td>\n      <td>0</td>\n      <td>0</td>\n      <td>0</td>\n      <td>0</td>\n      <td>0</td>\n      <td>...</td>\n      <td>3</td>\n      <td>2.0</td>\n      <td>2</td>\n      <td>0.700000</td>\n      <td>0.000000</td>\n      <td>0.6</td>\n      <td>0.0</td>\n      <td>736694.0</td>\n      <td>41</td>\n      <td>[2, Good food at your doorstep, A good hotel r...</td>\n    </tr>\n    <tr>\n      <th>1</th>\n      <td>id_1535</td>\n      <td>1537.0</td>\n      <td>4.0</td>\n      <td>10.0</td>\n      <td>[['Unique cuisine', 'Delicious Nepalese food']...</td>\n      <td>0</td>\n      <td>0</td>\n      <td>0</td>\n      <td>0</td>\n      <td>0</td>\n      <td>...</td>\n      <td>1</td>\n      <td>2.0</td>\n      <td>2</td>\n      <td>0.687500</td>\n      <td>0.312500</td>\n      <td>1.0</td>\n      <td>0.0</td>\n      <td>736516.0</td>\n      <td>382</td>\n      <td>[2, Unique cuisine, Delicious Nepalese food, 0...</td>\n    </tr>\n    <tr>\n      <th>2</th>\n      <td>id_352</td>\n      <td>353.0</td>\n      <td>4.5</td>\n      <td>688.0</td>\n      <td>[['Catch up with friends', 'Not exceptional'],...</td>\n      <td>0</td>\n      <td>0</td>\n      <td>0</td>\n      <td>0</td>\n      <td>0</td>\n      <td>...</td>\n      <td>7</td>\n      <td>3.0</td>\n      <td>2</td>\n      <td>-0.166667</td>\n      <td>0.166667</td>\n      <td>0.5</td>\n      <td>0.5</td>\n      <td>736702.0</td>\n      <td>2</td>\n      <td>[2, Catch up with friends, Not exceptional, 01...</td>\n    </tr>\n  </tbody>\n</table>\n<p>3 rows × 194 columns</p>\n</div>"
     },
     "execution_count": 68,
     "metadata": {},
     "output_type": "execute_result"
    }
   ],
   "source": [
    "# Разбор колонки отзывов в два столбца со списком значений отзывов и\n",
    "# с количеством отзывов для будущего использоваиния\n",
    "df['RL'] = df['Reviews'].apply(split_review)\n",
    "df['Num_Disp_Rev'] = df['RL'].apply(lambda x: x[0])\n",
    "df.head(3)"
   ],
   "metadata": {
    "collapsed": false,
    "pycharm": {
     "name": "#%%\n"
    }
   }
  },
  {
   "cell_type": "code",
   "execution_count": 244,
   "outputs": [
    {
     "data": {
      "text/plain": "  Restaurant_id  Ranking  Rating  Number_of_Reviews  \\\n0       id_5569   5570.0     3.5              194.0   \n1       id_1535   1537.0     4.0               10.0   \n2        id_352    353.0     4.5              688.0   \n\n                                             Reviews  Amsterdam  Athens  \\\n0  [['Good food at your doorstep', 'A good hotel ...          0       0   \n1  [['Unique cuisine', 'Delicious Nepalese food']...          0       0   \n2  [['Catch up with friends', 'Not exceptional'],...          0       0   \n\n   Barcelona  Berlin  Bratislava  ...  Welsh  Latvian  Num_Cuisines  PRange  \\\n0          0       0           0  ...      0        0             3     2.0   \n1          0       0           0  ...      0        0             1     2.0   \n2          0       0           0  ...      0        0             7     3.0   \n\n                                                  RL  Num_Disp_Rev  \\\n0  [2, Good food at your doorstep, A good hotel r...             2   \n1  [2, Unique cuisine, Delicious Nepalese food, 0...             2   \n2  [2, Catch up with friends, Not exceptional, 01...             2   \n\n                          RT1                      RT2        RDT1        RDT2  \n0  Good food at your doorstep  A good hotel restaurant  12/31/2017  11/20/2017  \n1              Unique cuisine  Delicious Nepalese food  07/06/2017  06/19/2016  \n2       Catch up with friends          Not exceptional  01/08/2018  01/06/2018  \n\n[3 rows x 192 columns]",
      "text/html": "<div>\n<style scoped>\n    .dataframe tbody tr th:only-of-type {\n        vertical-align: middle;\n    }\n\n    .dataframe tbody tr th {\n        vertical-align: top;\n    }\n\n    .dataframe thead th {\n        text-align: right;\n    }\n</style>\n<table border=\"1\" class=\"dataframe\">\n  <thead>\n    <tr style=\"text-align: right;\">\n      <th></th>\n      <th>Restaurant_id</th>\n      <th>Ranking</th>\n      <th>Rating</th>\n      <th>Number_of_Reviews</th>\n      <th>Reviews</th>\n      <th>Amsterdam</th>\n      <th>Athens</th>\n      <th>Barcelona</th>\n      <th>Berlin</th>\n      <th>Bratislava</th>\n      <th>...</th>\n      <th>Welsh</th>\n      <th>Latvian</th>\n      <th>Num_Cuisines</th>\n      <th>PRange</th>\n      <th>RL</th>\n      <th>Num_Disp_Rev</th>\n      <th>RT1</th>\n      <th>RT2</th>\n      <th>RDT1</th>\n      <th>RDT2</th>\n    </tr>\n  </thead>\n  <tbody>\n    <tr>\n      <th>0</th>\n      <td>id_5569</td>\n      <td>5570.0</td>\n      <td>3.5</td>\n      <td>194.0</td>\n      <td>[['Good food at your doorstep', 'A good hotel ...</td>\n      <td>0</td>\n      <td>0</td>\n      <td>0</td>\n      <td>0</td>\n      <td>0</td>\n      <td>...</td>\n      <td>0</td>\n      <td>0</td>\n      <td>3</td>\n      <td>2.0</td>\n      <td>[2, Good food at your doorstep, A good hotel r...</td>\n      <td>2</td>\n      <td>Good food at your doorstep</td>\n      <td>A good hotel restaurant</td>\n      <td>12/31/2017</td>\n      <td>11/20/2017</td>\n    </tr>\n    <tr>\n      <th>1</th>\n      <td>id_1535</td>\n      <td>1537.0</td>\n      <td>4.0</td>\n      <td>10.0</td>\n      <td>[['Unique cuisine', 'Delicious Nepalese food']...</td>\n      <td>0</td>\n      <td>0</td>\n      <td>0</td>\n      <td>0</td>\n      <td>0</td>\n      <td>...</td>\n      <td>0</td>\n      <td>0</td>\n      <td>1</td>\n      <td>2.0</td>\n      <td>[2, Unique cuisine, Delicious Nepalese food, 0...</td>\n      <td>2</td>\n      <td>Unique cuisine</td>\n      <td>Delicious Nepalese food</td>\n      <td>07/06/2017</td>\n      <td>06/19/2016</td>\n    </tr>\n    <tr>\n      <th>2</th>\n      <td>id_352</td>\n      <td>353.0</td>\n      <td>4.5</td>\n      <td>688.0</td>\n      <td>[['Catch up with friends', 'Not exceptional'],...</td>\n      <td>0</td>\n      <td>0</td>\n      <td>0</td>\n      <td>0</td>\n      <td>0</td>\n      <td>...</td>\n      <td>0</td>\n      <td>0</td>\n      <td>7</td>\n      <td>3.0</td>\n      <td>[2, Catch up with friends, Not exceptional, 01...</td>\n      <td>2</td>\n      <td>Catch up with friends</td>\n      <td>Not exceptional</td>\n      <td>01/08/2018</td>\n      <td>01/06/2018</td>\n    </tr>\n  </tbody>\n</table>\n<p>3 rows × 192 columns</p>\n</div>"
     },
     "execution_count": 244,
     "metadata": {},
     "output_type": "execute_result"
    }
   ],
   "source": [
    "# Вывод значений обзора и его даты не нужен для дальнейшего использования.\n",
    "df['RT1']= df['RL'].apply(lambda x: x[1])     #Текст обзора 1\n",
    "df['RT2']= df['RL'].apply(lambda x: x[2])     #Текст обзора 2\n",
    "df['RDT1'] = df['RL'].apply(lambda x: x[3])   #Дата обзора 1\n",
    "df['RDT2'] = df['RL'].apply(lambda x: x[4])   #Дата обзора 2\n",
    "\n",
    "df.head(3)"
   ],
   "metadata": {
    "collapsed": false,
    "pycharm": {
     "name": "#%%\n"
    }
   }
  },
  {
   "cell_type": "code",
   "execution_count": 250,
   "outputs": [
    {
     "data": {
      "text/plain": "  Restaurant_id  Ranking  Rating  Number_of_Reviews  \\\n0       id_5569   5570.0     3.5              194.0   \n1       id_1535   1537.0     4.0               10.0   \n2        id_352    353.0     4.5              688.0   \n\n                                             Reviews  Amsterdam  Athens  \\\n0  [['Good food at your doorstep', 'A good hotel ...          0       0   \n1  [['Unique cuisine', 'Delicious Nepalese food']...          0       0   \n2  [['Catch up with friends', 'Not exceptional'],...          0       0   \n\n   Barcelona  Berlin  Bratislava  ...  PRange  \\\n0          0       0           0  ...     2.0   \n1          0       0           0  ...     2.0   \n2          0       0           0  ...     3.0   \n\n                                                  RL  Num_Disp_Rev  \\\n0  [2, Good food at your doorstep, A good hotel r...             2   \n1  [2, Unique cuisine, Delicious Nepalese food, 0...             2   \n2  [2, Catch up with friends, Not exceptional, 01...             2   \n\n   Review_polarity  Review_polarity_variation  Review_subjectivity  \\\n0         0.700000                   0.000000                  0.6   \n1         0.687500                   0.312500                  1.0   \n2        -0.166667                   0.166667                  0.5   \n\n   Review_subjectivity_variation           RDAL  Recent_Review_date  \\\n0                            0.0   [736694, 41]              736694   \n1                            0.0  [736516, 382]              736516   \n2                            0.5    [736702, 2]              736702   \n\n   Review_dates_span  \n0                 41  \n1                382  \n2                  2  \n\n[3 rows x 195 columns]",
      "text/html": "<div>\n<style scoped>\n    .dataframe tbody tr th:only-of-type {\n        vertical-align: middle;\n    }\n\n    .dataframe tbody tr th {\n        vertical-align: top;\n    }\n\n    .dataframe thead th {\n        text-align: right;\n    }\n</style>\n<table border=\"1\" class=\"dataframe\">\n  <thead>\n    <tr style=\"text-align: right;\">\n      <th></th>\n      <th>Restaurant_id</th>\n      <th>Ranking</th>\n      <th>Rating</th>\n      <th>Number_of_Reviews</th>\n      <th>Reviews</th>\n      <th>Amsterdam</th>\n      <th>Athens</th>\n      <th>Barcelona</th>\n      <th>Berlin</th>\n      <th>Bratislava</th>\n      <th>...</th>\n      <th>PRange</th>\n      <th>RL</th>\n      <th>Num_Disp_Rev</th>\n      <th>Review_polarity</th>\n      <th>Review_polarity_variation</th>\n      <th>Review_subjectivity</th>\n      <th>Review_subjectivity_variation</th>\n      <th>RDAL</th>\n      <th>Recent_Review_date</th>\n      <th>Review_dates_span</th>\n    </tr>\n  </thead>\n  <tbody>\n    <tr>\n      <th>0</th>\n      <td>id_5569</td>\n      <td>5570.0</td>\n      <td>3.5</td>\n      <td>194.0</td>\n      <td>[['Good food at your doorstep', 'A good hotel ...</td>\n      <td>0</td>\n      <td>0</td>\n      <td>0</td>\n      <td>0</td>\n      <td>0</td>\n      <td>...</td>\n      <td>2.0</td>\n      <td>[2, Good food at your doorstep, A good hotel r...</td>\n      <td>2</td>\n      <td>0.700000</td>\n      <td>0.000000</td>\n      <td>0.6</td>\n      <td>0.0</td>\n      <td>[736694, 41]</td>\n      <td>736694</td>\n      <td>41</td>\n    </tr>\n    <tr>\n      <th>1</th>\n      <td>id_1535</td>\n      <td>1537.0</td>\n      <td>4.0</td>\n      <td>10.0</td>\n      <td>[['Unique cuisine', 'Delicious Nepalese food']...</td>\n      <td>0</td>\n      <td>0</td>\n      <td>0</td>\n      <td>0</td>\n      <td>0</td>\n      <td>...</td>\n      <td>2.0</td>\n      <td>[2, Unique cuisine, Delicious Nepalese food, 0...</td>\n      <td>2</td>\n      <td>0.687500</td>\n      <td>0.312500</td>\n      <td>1.0</td>\n      <td>0.0</td>\n      <td>[736516, 382]</td>\n      <td>736516</td>\n      <td>382</td>\n    </tr>\n    <tr>\n      <th>2</th>\n      <td>id_352</td>\n      <td>353.0</td>\n      <td>4.5</td>\n      <td>688.0</td>\n      <td>[['Catch up with friends', 'Not exceptional'],...</td>\n      <td>0</td>\n      <td>0</td>\n      <td>0</td>\n      <td>0</td>\n      <td>0</td>\n      <td>...</td>\n      <td>3.0</td>\n      <td>[2, Catch up with friends, Not exceptional, 01...</td>\n      <td>2</td>\n      <td>-0.166667</td>\n      <td>0.166667</td>\n      <td>0.5</td>\n      <td>0.5</td>\n      <td>[736702, 2]</td>\n      <td>736702</td>\n      <td>2</td>\n    </tr>\n  </tbody>\n</table>\n<p>3 rows × 195 columns</p>\n</div>"
     },
     "execution_count": 250,
     "metadata": {},
     "output_type": "execute_result"
    }
   ],
   "source": [
    "df = df.drop(['RT1', 'RT2', 'RDT1', 'RDT2'] ,axis=1)\n",
    "df.head(3)"
   ],
   "metadata": {
    "collapsed": false,
    "pycharm": {
     "name": "#%%\n"
    }
   }
  },
  {
   "cell_type": "code",
   "execution_count": 33,
   "outputs": [],
   "source": [
    "# Анализ текста с целью выясвления отношения и субьективности написавшего.\n",
    "# Использую усредненные значения по двум отзвам, либо единственное значение по одному, либо все по нулям.\n",
    "# Еще считается характеристика разброса значений отношения и субьективности - если отзывов два.\n",
    "def analyse_texts(RevList):\n",
    "    # RevList[0] - количество опубликованных отзывов\n",
    "    # RevList[1] - текст отзыва 1\n",
    "    # RevList[2] - текст отзыва 2\n",
    "    if RevList[0] == 2:\n",
    "        tb1 = TextBlob(RevList[1])\n",
    "        # TextBlob - simples method for sentiment analysis\n",
    "        p1 = tb1.sentiment.polarity\n",
    "        s1 = tb1.sentiment.subjectivity\n",
    "        # The sentiment property returns a namedtuple of the form Sentiment(polarity, subjectivity).\n",
    "        # The polarity score is a float within the range [-1.0, 1.0].\n",
    "        # The subjectivity is a float within the range [0.0, 1.0]\n",
    "        # where 0.0 is very objective and 1.0 is very subjective.\n",
    "        # print(RevList[1],p1,s1)\n",
    "        tb2 = TextBlob(RevList[2])\n",
    "        p2 = tb2.sentiment.polarity\n",
    "        s2 = tb2.sentiment.subjectivity\n",
    "        # print(RevList[2],p2,s2)\n",
    "        p = (p1+p2)/2      #средняя полярность отзывов\n",
    "        dp = abs(p2-p1)/2  #разброс полярностей отзывов\n",
    "        s = (s1+s2)/2      #средняя субьективность отзывов\n",
    "        ds = abs(s2-s1)/2  #разброс субьективностей отзывов\n",
    "        return [p, dp, s, ds]\n",
    "    elif RevList[0] == 1:\n",
    "        tb1 = TextBlob(RevList[1])\n",
    "        return [tb1.sentiment.polarity, 0.0, tb1.sentiment.subjectivity, 0.0]\n",
    "    else:\n",
    "        return[0.0, 0.0, 0.0, 0.0]"
   ],
   "metadata": {
    "collapsed": false,
    "pycharm": {
     "name": "#%%\n"
    }
   }
  },
  {
   "cell_type": "code",
   "execution_count": 34,
   "outputs": [
    {
     "data": {
      "text/plain": "  Restaurant_id  Ranking  Rating  Number_of_Reviews  \\\n0       id_5569   5570.0     3.5              194.0   \n1       id_1535   1537.0     4.0               10.0   \n2        id_352    353.0     4.5              688.0   \n\n                                             Reviews  Amsterdam  Athens  \\\n0  [['Good food at your doorstep', 'A good hotel ...          0       0   \n1  [['Unique cuisine', 'Delicious Nepalese food']...          0       0   \n2  [['Catch up with friends', 'Not exceptional'],...          0       0   \n\n   Barcelona  Berlin  Bratislava  ...  Welsh  Latvian  Num_Cuisines  PRange  \\\n0          0       0           0  ...      0        0             3     2.0   \n1          0       0           0  ...      0        0             1     2.0   \n2          0       0           0  ...      0        0             7     3.0   \n\n                                                  RL  Num_Disp_Rev  \\\n0  [2, Good food at your doorstep, A good hotel r...             2   \n1  [2, Unique cuisine, Delicious Nepalese food, 0...             2   \n2  [2, Catch up with friends, Not exceptional, 01...             2   \n\n   Review_polarity  Review_polarity_variation  Review_subjectivity  \\\n0         0.700000                   0.000000                  0.6   \n1         0.687500                   0.312500                  1.0   \n2        -0.166667                   0.166667                  0.5   \n\n   Review_subjectivity_variation  \n0                            0.0  \n1                            0.0  \n2                            0.5  \n\n[3 rows x 192 columns]",
      "text/html": "<div>\n<style scoped>\n    .dataframe tbody tr th:only-of-type {\n        vertical-align: middle;\n    }\n\n    .dataframe tbody tr th {\n        vertical-align: top;\n    }\n\n    .dataframe thead th {\n        text-align: right;\n    }\n</style>\n<table border=\"1\" class=\"dataframe\">\n  <thead>\n    <tr style=\"text-align: right;\">\n      <th></th>\n      <th>Restaurant_id</th>\n      <th>Ranking</th>\n      <th>Rating</th>\n      <th>Number_of_Reviews</th>\n      <th>Reviews</th>\n      <th>Amsterdam</th>\n      <th>Athens</th>\n      <th>Barcelona</th>\n      <th>Berlin</th>\n      <th>Bratislava</th>\n      <th>...</th>\n      <th>Welsh</th>\n      <th>Latvian</th>\n      <th>Num_Cuisines</th>\n      <th>PRange</th>\n      <th>RL</th>\n      <th>Num_Disp_Rev</th>\n      <th>Review_polarity</th>\n      <th>Review_polarity_variation</th>\n      <th>Review_subjectivity</th>\n      <th>Review_subjectivity_variation</th>\n    </tr>\n  </thead>\n  <tbody>\n    <tr>\n      <th>0</th>\n      <td>id_5569</td>\n      <td>5570.0</td>\n      <td>3.5</td>\n      <td>194.0</td>\n      <td>[['Good food at your doorstep', 'A good hotel ...</td>\n      <td>0</td>\n      <td>0</td>\n      <td>0</td>\n      <td>0</td>\n      <td>0</td>\n      <td>...</td>\n      <td>0</td>\n      <td>0</td>\n      <td>3</td>\n      <td>2.0</td>\n      <td>[2, Good food at your doorstep, A good hotel r...</td>\n      <td>2</td>\n      <td>0.700000</td>\n      <td>0.000000</td>\n      <td>0.6</td>\n      <td>0.0</td>\n    </tr>\n    <tr>\n      <th>1</th>\n      <td>id_1535</td>\n      <td>1537.0</td>\n      <td>4.0</td>\n      <td>10.0</td>\n      <td>[['Unique cuisine', 'Delicious Nepalese food']...</td>\n      <td>0</td>\n      <td>0</td>\n      <td>0</td>\n      <td>0</td>\n      <td>0</td>\n      <td>...</td>\n      <td>0</td>\n      <td>0</td>\n      <td>1</td>\n      <td>2.0</td>\n      <td>[2, Unique cuisine, Delicious Nepalese food, 0...</td>\n      <td>2</td>\n      <td>0.687500</td>\n      <td>0.312500</td>\n      <td>1.0</td>\n      <td>0.0</td>\n    </tr>\n    <tr>\n      <th>2</th>\n      <td>id_352</td>\n      <td>353.0</td>\n      <td>4.5</td>\n      <td>688.0</td>\n      <td>[['Catch up with friends', 'Not exceptional'],...</td>\n      <td>0</td>\n      <td>0</td>\n      <td>0</td>\n      <td>0</td>\n      <td>0</td>\n      <td>...</td>\n      <td>0</td>\n      <td>0</td>\n      <td>7</td>\n      <td>3.0</td>\n      <td>[2, Catch up with friends, Not exceptional, 01...</td>\n      <td>2</td>\n      <td>-0.166667</td>\n      <td>0.166667</td>\n      <td>0.5</td>\n      <td>0.5</td>\n    </tr>\n  </tbody>\n</table>\n<p>3 rows × 192 columns</p>\n</div>"
     },
     "execution_count": 34,
     "metadata": {},
     "output_type": "execute_result"
    }
   ],
   "source": [
    "df['TAL'] = df['RL'].apply(analyse_texts)\n",
    "df['Review_polarity'] = df['TAL'].apply(lambda x: x[0])\n",
    "df['Review_polarity_variation'] = df['TAL'].apply(lambda x: x[1])\n",
    "df['Review_subjectivity'] = df['TAL'].apply(lambda x: x[2])\n",
    "df['Review_subjectivity_variation'] = df['TAL'].apply(lambda x: x[3])\n",
    "df = df.drop(['TAL'], axis=1)\n",
    "df.head(3)"
   ],
   "metadata": {
    "collapsed": false,
    "pycharm": {
     "name": "#%%\n"
    }
   }
  },
  {
   "cell_type": "code",
   "execution_count": null,
   "outputs": [],
   "source": [],
   "metadata": {
    "collapsed": false,
    "pycharm": {
     "name": "#%%\n"
    }
   }
  },
  {
   "cell_type": "code",
   "execution_count": null,
   "outputs": [],
   "source": [],
   "metadata": {
    "collapsed": false,
    "pycharm": {
     "name": "#%%\n"
    }
   }
  },
  {
   "cell_type": "code",
   "execution_count": 75,
   "outputs": [],
   "source": [
    "def analyse_review_dates(RevList):\n",
    "    # RevList[0] - количество опубликованных отзывов\n",
    "    # RevList[3] - дата отзыва 1\n",
    "    # RevList[4] - дата отзыва 2\n",
    "    if RevList[3] == '':\n",
    "        c1 = 0\n",
    "    else:\n",
    "        c1 = datetime.strptime(RevList[3],\"%m/%d/%Y\").date().toordinal()\n",
    "    if RevList[4] == '':\n",
    "        c2 = 0\n",
    "    else:\n",
    "        c2 = datetime.strptime(RevList[4],\"%m/%d/%Y\").date().toordinal()\n",
    "    return [ (c2 if c2>c1 else c1), (abs(c2-c1) if c2>0 else 0) ]"
   ],
   "metadata": {
    "collapsed": false,
    "pycharm": {
     "name": "#%%\n"
    }
   }
  },
  {
   "cell_type": "code",
   "execution_count": 76,
   "outputs": [],
   "source": [
    "def check_dates(RevList):\n",
    "    if RevList[0] == 2:\n",
    "        if (RevList[3]=='') or (RevList[4]==''):\n",
    "            print(RevList)\n",
    "            return 'Err'\n",
    "        else:\n",
    "            return 'Ok'\n",
    "    elif (RevList[0] ==1) and (RevList[3]==''):\n",
    "        print(RevList)\n",
    "        return 'Err'\n",
    "    return 'Ok'"
   ],
   "metadata": {
    "collapsed": false,
    "pycharm": {
     "name": "#%%\n"
    }
   }
  },
  {
   "cell_type": "code",
   "execution_count": 89,
   "outputs": [
    {
     "data": {
      "text/plain": "  Restaurant_id  Ranking  Rating  Number_of_Reviews  \\\n0       id_5569   5570.0     3.5              194.0   \n1       id_1535   1537.0     4.0               10.0   \n2        id_352    353.0     4.5              688.0   \n3       id_3456   3458.0     5.0                3.0   \n4        id_615    621.0     4.0               84.0   \n\n                                             Reviews  Amsterdam  Athens  \\\n0  [['Good food at your doorstep', 'A good hotel ...          0       0   \n1  [['Unique cuisine', 'Delicious Nepalese food']...          0       0   \n2  [['Catch up with friends', 'Not exceptional'],...          0       0   \n3                                           [[], []]          0       0   \n4  [['Best place to try a Bavarian food', 'Nice b...          0       0   \n\n   Barcelona  Berlin  Bratislava  ...  Num_Cuisines  PRange  Num_Disp_Rev  \\\n0          0       0           0  ...             3     2.0             2   \n1          0       0           0  ...             1     2.0             2   \n2          0       0           0  ...             7     3.0             2   \n3          0       1           0  ...             1     2.0             0   \n4          0       0           0  ...             3     2.0             2   \n\n   Review_polarity  Review_polarity_variation  Review_subjectivity  \\\n0         0.700000                   0.000000                 0.60   \n1         0.687500                   0.312500                 1.00   \n2        -0.166667                   0.166667                 0.50   \n3         0.000000                   0.000000                 0.00   \n4         0.800000                   0.200000                 0.65   \n\n   Review_subjectivity_variation  Recent_Review_date  Review_dates_span  \\\n0                           0.00              736694                 41   \n1                           0.00              736516                382   \n2                           0.50              736702                  2   \n3                           0.00                   0                  0   \n4                           0.35              736651                272   \n\n                                                  RL  \n0  [2, Good food at your doorstep, A good hotel r...  \n1  [2, Unique cuisine, Delicious Nepalese food, 0...  \n2  [2, Catch up with friends, Not exceptional, 01...  \n3                                        [0, , , , ]  \n4  [2, Best place to try a Bavarian food, Nice bu...  \n\n[5 rows x 194 columns]",
      "text/html": "<div>\n<style scoped>\n    .dataframe tbody tr th:only-of-type {\n        vertical-align: middle;\n    }\n\n    .dataframe tbody tr th {\n        vertical-align: top;\n    }\n\n    .dataframe thead th {\n        text-align: right;\n    }\n</style>\n<table border=\"1\" class=\"dataframe\">\n  <thead>\n    <tr style=\"text-align: right;\">\n      <th></th>\n      <th>Restaurant_id</th>\n      <th>Ranking</th>\n      <th>Rating</th>\n      <th>Number_of_Reviews</th>\n      <th>Reviews</th>\n      <th>Amsterdam</th>\n      <th>Athens</th>\n      <th>Barcelona</th>\n      <th>Berlin</th>\n      <th>Bratislava</th>\n      <th>...</th>\n      <th>Num_Cuisines</th>\n      <th>PRange</th>\n      <th>Num_Disp_Rev</th>\n      <th>Review_polarity</th>\n      <th>Review_polarity_variation</th>\n      <th>Review_subjectivity</th>\n      <th>Review_subjectivity_variation</th>\n      <th>Recent_Review_date</th>\n      <th>Review_dates_span</th>\n      <th>RL</th>\n    </tr>\n  </thead>\n  <tbody>\n    <tr>\n      <th>0</th>\n      <td>id_5569</td>\n      <td>5570.0</td>\n      <td>3.5</td>\n      <td>194.0</td>\n      <td>[['Good food at your doorstep', 'A good hotel ...</td>\n      <td>0</td>\n      <td>0</td>\n      <td>0</td>\n      <td>0</td>\n      <td>0</td>\n      <td>...</td>\n      <td>3</td>\n      <td>2.0</td>\n      <td>2</td>\n      <td>0.700000</td>\n      <td>0.000000</td>\n      <td>0.60</td>\n      <td>0.00</td>\n      <td>736694</td>\n      <td>41</td>\n      <td>[2, Good food at your doorstep, A good hotel r...</td>\n    </tr>\n    <tr>\n      <th>1</th>\n      <td>id_1535</td>\n      <td>1537.0</td>\n      <td>4.0</td>\n      <td>10.0</td>\n      <td>[['Unique cuisine', 'Delicious Nepalese food']...</td>\n      <td>0</td>\n      <td>0</td>\n      <td>0</td>\n      <td>0</td>\n      <td>0</td>\n      <td>...</td>\n      <td>1</td>\n      <td>2.0</td>\n      <td>2</td>\n      <td>0.687500</td>\n      <td>0.312500</td>\n      <td>1.00</td>\n      <td>0.00</td>\n      <td>736516</td>\n      <td>382</td>\n      <td>[2, Unique cuisine, Delicious Nepalese food, 0...</td>\n    </tr>\n    <tr>\n      <th>2</th>\n      <td>id_352</td>\n      <td>353.0</td>\n      <td>4.5</td>\n      <td>688.0</td>\n      <td>[['Catch up with friends', 'Not exceptional'],...</td>\n      <td>0</td>\n      <td>0</td>\n      <td>0</td>\n      <td>0</td>\n      <td>0</td>\n      <td>...</td>\n      <td>7</td>\n      <td>3.0</td>\n      <td>2</td>\n      <td>-0.166667</td>\n      <td>0.166667</td>\n      <td>0.50</td>\n      <td>0.50</td>\n      <td>736702</td>\n      <td>2</td>\n      <td>[2, Catch up with friends, Not exceptional, 01...</td>\n    </tr>\n    <tr>\n      <th>3</th>\n      <td>id_3456</td>\n      <td>3458.0</td>\n      <td>5.0</td>\n      <td>3.0</td>\n      <td>[[], []]</td>\n      <td>0</td>\n      <td>0</td>\n      <td>0</td>\n      <td>1</td>\n      <td>0</td>\n      <td>...</td>\n      <td>1</td>\n      <td>2.0</td>\n      <td>0</td>\n      <td>0.000000</td>\n      <td>0.000000</td>\n      <td>0.00</td>\n      <td>0.00</td>\n      <td>0</td>\n      <td>0</td>\n      <td>[0, , , , ]</td>\n    </tr>\n    <tr>\n      <th>4</th>\n      <td>id_615</td>\n      <td>621.0</td>\n      <td>4.0</td>\n      <td>84.0</td>\n      <td>[['Best place to try a Bavarian food', 'Nice b...</td>\n      <td>0</td>\n      <td>0</td>\n      <td>0</td>\n      <td>0</td>\n      <td>0</td>\n      <td>...</td>\n      <td>3</td>\n      <td>2.0</td>\n      <td>2</td>\n      <td>0.800000</td>\n      <td>0.200000</td>\n      <td>0.65</td>\n      <td>0.35</td>\n      <td>736651</td>\n      <td>272</td>\n      <td>[2, Best place to try a Bavarian food, Nice bu...</td>\n    </tr>\n  </tbody>\n</table>\n<p>5 rows × 194 columns</p>\n</div>"
     },
     "execution_count": 89,
     "metadata": {},
     "output_type": "execute_result"
    }
   ],
   "source": [
    "df['RDAL'] = df['RL'].apply(analyse_review_dates)\n",
    "df['Recent_Review_date'] = df['RDAL'].apply(lambda x: x[0])\n",
    "df['Review_dates_span'] = df['RDAL'].apply(lambda x: x[1])\n",
    "df = df.drop(['RDAL'],axis=1)\n",
    "df.head(5)"
   ],
   "metadata": {
    "collapsed": false,
    "pycharm": {
     "name": "#%%\n"
    }
   }
  },
  {
   "cell_type": "code",
   "execution_count": 91,
   "outputs": [
    {
     "name": "stderr",
     "output_type": "stream",
     "text": [
      "[Parallel(n_jobs=-1)]: Using backend ThreadingBackend with 8 concurrent workers.\n",
      "[Parallel(n_jobs=-1)]: Done  34 tasks      | elapsed:    4.9s\n"
     ]
    },
    {
     "name": "stdout",
     "output_type": "stream",
     "text": [
      "Длительность: 12.796834852999382 sec\n",
      "MAE: 0.21311950000000002\n",
      "MAE2: 0.181\n"
     ]
    },
    {
     "name": "stderr",
     "output_type": "stream",
     "text": [
      "[Parallel(n_jobs=-1)]: Done 100 out of 100 | elapsed:   12.5s finished\n",
      "[Parallel(n_jobs=8)]: Using backend ThreadingBackend with 8 concurrent workers.\n",
      "[Parallel(n_jobs=8)]: Done  34 tasks      | elapsed:    0.0s\n",
      "[Parallel(n_jobs=8)]: Done 100 out of 100 | elapsed:    0.1s finished\n"
     ]
    }
   ],
   "source": [
    "RFR_test(df.drop(['Reviews','RL'],axis=1))"
   ],
   "metadata": {
    "collapsed": false,
    "pycharm": {
     "name": "#%%\n"
    }
   }
  },
  {
   "cell_type": "code",
   "execution_count": 92,
   "outputs": [],
   "source": [
    "#Удивительным образом заполнение пропусков даты обзора медианой а не нулем дает чуть лучшее значение.\n",
    "# А вот нормализация значений заметным образом не сказывается на итоге.\n",
    "Med_Rec_Rev_Date = df.loc[df.Recent_Review_date>0,'Recent_Review_date'].median()\n",
    "df['Recent_Review_date'] = df['Recent_Review_date'].apply(lambda x: x if x > 0 else Med_Rec_Rev_Date)"
   ],
   "metadata": {
    "collapsed": false,
    "pycharm": {
     "name": "#%%\n"
    }
   }
  },
  {
   "cell_type": "code",
   "execution_count": 93,
   "outputs": [
    {
     "name": "stderr",
     "output_type": "stream",
     "text": [
      "[Parallel(n_jobs=-1)]: Using backend ThreadingBackend with 8 concurrent workers.\n",
      "[Parallel(n_jobs=-1)]: Done  34 tasks      | elapsed:    5.3s\n"
     ]
    },
    {
     "name": "stdout",
     "output_type": "stream",
     "text": [
      "Длительность: 15.310309649000374 sec\n",
      "MAE: 0.2133255\n",
      "MAE2: 0.1807\n"
     ]
    },
    {
     "name": "stderr",
     "output_type": "stream",
     "text": [
      "[Parallel(n_jobs=-1)]: Done 100 out of 100 | elapsed:   15.0s finished\n",
      "[Parallel(n_jobs=8)]: Using backend ThreadingBackend with 8 concurrent workers.\n",
      "[Parallel(n_jobs=8)]: Done  34 tasks      | elapsed:    0.0s\n",
      "[Parallel(n_jobs=8)]: Done 100 out of 100 | elapsed:    0.1s finished\n"
     ]
    }
   ],
   "source": [
    "RFR_test(df.drop(['Reviews','RL'],axis=1))"
   ],
   "metadata": {
    "collapsed": false,
    "pycharm": {
     "name": "#%%\n"
    }
   }
  },
  {
   "cell_type": "code",
   "execution_count": 100,
   "outputs": [
    {
     "name": "stderr",
     "output_type": "stream",
     "text": [
      "[Parallel(n_jobs=-1)]: Using backend ThreadingBackend with 8 concurrent workers.\n",
      "[Parallel(n_jobs=-1)]: Done  34 tasks      | elapsed:    4.5s\n"
     ]
    },
    {
     "name": "stdout",
     "output_type": "stream",
     "text": [
      "Длительность: 13.547159116999865 sec\n",
      "MAE: 0.21265749999999997\n",
      "MAE2: 0.17995\n"
     ]
    },
    {
     "name": "stderr",
     "output_type": "stream",
     "text": [
      "[Parallel(n_jobs=-1)]: Done 100 out of 100 | elapsed:   13.2s finished\n",
      "[Parallel(n_jobs=8)]: Using backend ThreadingBackend with 8 concurrent workers.\n",
      "[Parallel(n_jobs=8)]: Done  34 tasks      | elapsed:    0.0s\n",
      "[Parallel(n_jobs=8)]: Done 100 out of 100 | elapsed:    0.0s finished\n"
     ]
    }
   ],
   "source": [
    "RFR_test(df.drop(['Reviews','RL','Review_polarity_variation', 'Review_subjectivity_variation'],axis=1))"
   ],
   "metadata": {
    "collapsed": false,
    "pycharm": {
     "name": "#%%\n"
    }
   }
  },
  {
   "cell_type": "code",
   "execution_count": null,
   "outputs": [],
   "source": [],
   "metadata": {
    "collapsed": false,
    "pycharm": {
     "name": "#%%\n"
    }
   }
  },
  {
   "cell_type": "code",
   "execution_count": null,
   "outputs": [],
   "source": [],
   "metadata": {
    "collapsed": false,
    "pycharm": {
     "name": "#%%\n"
    }
   }
  },
  {
   "cell_type": "code",
   "execution_count": null,
   "outputs": [],
   "source": [],
   "metadata": {
    "collapsed": false,
    "pycharm": {
     "name": "#%%\n"
    }
   }
  },
  {
   "cell_type": "markdown",
   "source": [],
   "metadata": {
    "collapsed": false
   }
  },
  {
   "cell_type": "code",
   "execution_count": 162,
   "outputs": [],
   "source": [],
   "metadata": {
    "collapsed": false,
    "pycharm": {
     "name": "#%%\n"
    }
   }
  },
  {
   "cell_type": "code",
   "execution_count": 167,
   "outputs": [],
   "source": [],
   "metadata": {
    "collapsed": false,
    "pycharm": {
     "name": "#%%\n"
    }
   }
  },
  {
   "cell_type": "code",
   "execution_count": 168,
   "metadata": {},
   "outputs": [],
   "source": [
    "# Ваш код по очистке данных и генерации новых признаков\n",
    "# При необходимости добавьте ячейки"
   ]
  },
  {
   "cell_type": "code",
   "execution_count": 168,
   "metadata": {},
   "outputs": [],
   "source": []
  },
  {
   "cell_type": "markdown",
   "metadata": {},
   "source": [
    "## Разбиваем датафрейм на части, необходимые для обучения и тестирования модели"
   ]
  },
  {
   "cell_type": "code",
   "execution_count": 169,
   "metadata": {},
   "outputs": [],
   "source": [
    "# Х - данные с информацией о ресторанах, у - целевая переменная (рейтинги ресторанов)\n",
    "X = df.drop(['Restaurant_id', 'Rating'], axis = 1)\n",
    "y = df['Rating']"
   ]
  },
  {
   "cell_type": "code",
   "execution_count": 170,
   "metadata": {},
   "outputs": [],
   "source": [
    "# Загружаем специальный инструмент для разбивки:\n",
    "from sklearn.model_selection import train_test_split"
   ]
  },
  {
   "cell_type": "code",
   "execution_count": 171,
   "metadata": {},
   "outputs": [],
   "source": [
    "# Наборы данных с меткой \"train\" будут использоваться для обучения модели, \"test\" - для тестирования.\n",
    "# Для тестирования мы будем использовать 25% от исходного датасета.\n",
    "X_train, X_test, y_train, y_test = train_test_split(X, y, test_size=0.25, random_state=17 )"
   ]
  },
  {
   "cell_type": "markdown",
   "metadata": {},
   "source": [
    "# Создаём, обучаем и тестируем модель"
   ]
  },
  {
   "cell_type": "code",
   "execution_count": 172,
   "metadata": {},
   "outputs": [],
   "source": [
    "# Импортируем необходимые библиотеки:\n",
    "from sklearn.ensemble import RandomForestRegressor # инструмент для создания и обучения модели\n",
    "from sklearn import metrics # инструменты для оценки точности модели"
   ]
  },
  {
   "cell_type": "code",
   "execution_count": 173,
   "metadata": {},
   "outputs": [
    {
     "name": "stdout",
     "output_type": "stream",
     "text": [
      "Обучение заняло 33.36827244999586 sec\n"
     ]
    }
   ],
   "source": [
    "# время до начала обучения\n",
    "was = time.perf_counter()\n",
    "# Создаём модель\n",
    "regr = RandomForestRegressor(n_estimators=100)\n",
    "\n",
    "# Обучаем модель на тестовом наборе данных\n",
    "regr.fit(X_train, y_train)\n",
    "\n",
    "# Используем обученную модель для предсказания рейтинга ресторанов в тестовой выборке.\n",
    "# Предсказанные значения записываем в переменную y_pred\n",
    "y_pred = regr.predict(X_test)\n",
    "print('Обучение заняло',time.perf_counter()-was,'sec')"
   ]
  },
  {
   "cell_type": "code",
   "execution_count": 174,
   "metadata": {},
   "outputs": [
    {
     "name": "stdout",
     "output_type": "stream",
     "text": [
      "MAE: 0.214652\n"
     ]
    }
   ],
   "source": [
    "# Сравниваем предсказанные значения (y_pred) с реальными (y_test), и смотрим насколько они в среднем отличаются\n",
    "# Метрика называется Mean Absolute Error (MAE) и показывает среднее отклонение предсказанных значений от фактических.\n",
    "print('MAE:', metrics.mean_absolute_error(y_test, y_pred))"
   ]
  },
  {
   "cell_type": "code",
   "execution_count": 175,
   "outputs": [
    {
     "name": "stdout",
     "output_type": "stream",
     "text": [
      "MAE2: 0.18695\n"
     ]
    }
   ],
   "source": [
    "y_pred2 = (y_pred*2).round()/2\n",
    "print('MAE2:', metrics.mean_absolute_error(y_test, y_pred2) )"
   ],
   "metadata": {
    "collapsed": false,
    "pycharm": {
     "name": "#%%\n"
    }
   }
  },
  {
   "cell_type": "code",
   "execution_count": null,
   "outputs": [],
   "source": [],
   "metadata": {
    "collapsed": false,
    "pycharm": {
     "name": "#%%\n"
    }
   }
  }
 ],
 "metadata": {
  "kernelspec": {
   "display_name": "Python 3",
   "language": "python",
   "name": "python3"
  },
  "language_info": {
   "codemirror_mode": {
    "name": "ipython",
    "version": 3
   },
   "file_extension": ".py",
   "mimetype": "text/x-python",
   "name": "python",
   "nbconvert_exporter": "python",
   "pygments_lexer": "ipython3",
   "version": "3.7.1"
  }
 },
 "nbformat": 4,
 "nbformat_minor": 2
}